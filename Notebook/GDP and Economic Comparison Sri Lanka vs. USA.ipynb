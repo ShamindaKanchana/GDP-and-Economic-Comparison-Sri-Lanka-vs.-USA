{
 "cells": [
  {
   "cell_type": "code",
   "execution_count": 121,
   "id": "409b3e00-9cfe-4bbb-ad00-eaf71081ff03",
   "metadata": {},
   "outputs": [
    {
     "data": {
      "text/plain": [
       "'e:\\\\Data_Analysis\\\\Data_Analytics_Projects\\\\GDP and Economic Comparison Sri Lanka vs. USA\\\\GDP-and-Economic-Comparison-Sri-Lanka-vs.-USA\\\\Notebook'"
      ]
     },
     "execution_count": 121,
     "metadata": {},
     "output_type": "execute_result"
    }
   ],
   "source": [
    "import os\n",
    "os.getcwd()"
   ]
  },
  {
   "cell_type": "code",
   "execution_count": 122,
   "id": "90fd536b",
   "metadata": {},
   "outputs": [
    {
     "data": {
      "text/html": [
       "        <script type=\"text/javascript\">\n",
       "        window.PlotlyConfig = {MathJaxConfig: 'local'};\n",
       "        if (window.MathJax && window.MathJax.Hub && window.MathJax.Hub.Config) {window.MathJax.Hub.Config({SVG: {font: \"STIX-Web\"}});}\n",
       "        if (typeof require !== 'undefined') {\n",
       "        require.undef(\"plotly\");\n",
       "        requirejs.config({\n",
       "            paths: {\n",
       "                'plotly': ['https://cdn.plot.ly/plotly-2.30.0.min']\n",
       "            }\n",
       "        });\n",
       "        require(['plotly'], function(Plotly) {\n",
       "            window._Plotly = Plotly;\n",
       "        });\n",
       "        }\n",
       "        </script>\n",
       "        "
      ]
     },
     "metadata": {},
     "output_type": "display_data"
    }
   ],
   "source": [
    "#importing all the requirement libraries \n",
    "import pandas as pd\n",
    "import numpy as np \n",
    "import matplotlib.pyplot as plt \n",
    "import plotly.express as px \n",
    "import plotly.graph_objects as go \n",
    "from plotly.subplots import make_subplots\n",
    "from plotly.offline import init_notebook_mode\n",
    "import seaborn as sns\n",
    "import datetime as dt\n",
    "import warnings\n",
    "pd.set_option('display.max_columns',None)\n",
    "init_notebook_mode(connected=True)\n"
   ]
  },
  {
   "cell_type": "code",
   "execution_count": 123,
   "id": "5a6021bf",
   "metadata": {},
   "outputs": [],
   "source": [
    "#import datasets\n",
    "df1=pd.read_csv('../Datasets/Sri Lanka Economy.csv')\n",
    "df2=pd.read_csv('../Datasets/USA GDP Growth 1961-2021.csv')"
   ]
  },
  {
   "cell_type": "code",
   "execution_count": 124,
   "id": "73c1581e",
   "metadata": {},
   "outputs": [
    {
     "data": {
      "text/html": [
       "<div>\n",
       "<style scoped>\n",
       "    .dataframe tbody tr th:only-of-type {\n",
       "        vertical-align: middle;\n",
       "    }\n",
       "\n",
       "    .dataframe tbody tr th {\n",
       "        vertical-align: top;\n",
       "    }\n",
       "\n",
       "    .dataframe thead th {\n",
       "        text-align: right;\n",
       "    }\n",
       "</style>\n",
       "<table border=\"1\" class=\"dataframe\">\n",
       "  <thead>\n",
       "    <tr style=\"text-align: right;\">\n",
       "      <th></th>\n",
       "      <th>Year</th>\n",
       "      <th>Population</th>\n",
       "      <th>Population growth rate</th>\n",
       "      <th>GDP</th>\n",
       "      <th>GDP growth percentage</th>\n",
       "      <th>Annual change in GDP growth</th>\n",
       "      <th>GDP Per Capita</th>\n",
       "      <th>Annual Growth Rate in GDP Per Capita</th>\n",
       "      <th>GNI</th>\n",
       "      <th>GNI Growth Rate</th>\n",
       "      <th>GNI Per Capita</th>\n",
       "      <th>GNI Per Capita Annual Growth Rate</th>\n",
       "      <th>Government Debt as % of GDP</th>\n",
       "      <th>Annual Change in Debt to GDP Ratio</th>\n",
       "      <th>GNP</th>\n",
       "      <th>Inflation Rate</th>\n",
       "      <th>Annual Change in Inflation Rate</th>\n",
       "    </tr>\n",
       "  </thead>\n",
       "  <tbody>\n",
       "    <tr>\n",
       "      <th>0</th>\n",
       "      <td>2021</td>\n",
       "      <td>2,17,73,441</td>\n",
       "      <td>0.27%</td>\n",
       "      <td>$84.52B</td>\n",
       "      <td>3.66%</td>\n",
       "      <td>7.27%</td>\n",
       "      <td>$3,815</td>\n",
       "      <td>3.27%</td>\n",
       "      <td>$84.57B</td>\n",
       "      <td>4.12%</td>\n",
       "      <td>$3,820</td>\n",
       "      <td>2.69%</td>\n",
       "      <td>Null</td>\n",
       "      <td>Null</td>\n",
       "      <td>$84.57B</td>\n",
       "      <td>7.01%</td>\n",
       "      <td>0.86%</td>\n",
       "    </tr>\n",
       "    <tr>\n",
       "      <th>1</th>\n",
       "      <td>2020</td>\n",
       "      <td>2,17,15,079</td>\n",
       "      <td>0.30%</td>\n",
       "      <td>$80.97B</td>\n",
       "      <td>-3.62%</td>\n",
       "      <td>-5.94%</td>\n",
       "      <td>$3,694</td>\n",
       "      <td>-4.01%</td>\n",
       "      <td>$81.45B</td>\n",
       "      <td>-3.45%</td>\n",
       "      <td>$3,720</td>\n",
       "      <td>-7.23%</td>\n",
       "      <td>Null</td>\n",
       "      <td>Null</td>\n",
       "      <td>$81.45B</td>\n",
       "      <td>6.15%</td>\n",
       "      <td>2.63%</td>\n",
       "    </tr>\n",
       "    <tr>\n",
       "      <th>2</th>\n",
       "      <td>2019</td>\n",
       "      <td>2,16,49,664</td>\n",
       "      <td>0.32%</td>\n",
       "      <td>$83.90B</td>\n",
       "      <td>2.33%</td>\n",
       "      <td>-0.94%</td>\n",
       "      <td>$3,848</td>\n",
       "      <td>-5.20%</td>\n",
       "      <td>$87.46B</td>\n",
       "      <td>2.14%</td>\n",
       "      <td>$4,010</td>\n",
       "      <td>-0.74%</td>\n",
       "      <td>Null</td>\n",
       "      <td>Null</td>\n",
       "      <td>$87.46B</td>\n",
       "      <td>3.53%</td>\n",
       "      <td>1.39%</td>\n",
       "    </tr>\n",
       "    <tr>\n",
       "      <th>3</th>\n",
       "      <td>2018</td>\n",
       "      <td>2,15,80,710</td>\n",
       "      <td>0.34%</td>\n",
       "      <td>$87.96B</td>\n",
       "      <td>3.27%</td>\n",
       "      <td>-0.31%</td>\n",
       "      <td>$4,059</td>\n",
       "      <td>-0.44%</td>\n",
       "      <td>$87.46B</td>\n",
       "      <td>3.19%</td>\n",
       "      <td>$4,040</td>\n",
       "      <td>4.39%</td>\n",
       "      <td>Null</td>\n",
       "      <td>Null</td>\n",
       "      <td>$87.46B</td>\n",
       "      <td>2.14%</td>\n",
       "      <td>-5.57%</td>\n",
       "    </tr>\n",
       "    <tr>\n",
       "      <th>4</th>\n",
       "      <td>2017</td>\n",
       "      <td>2,15,06,813</td>\n",
       "      <td>0.38%</td>\n",
       "      <td>$87.43B</td>\n",
       "      <td>3.58%</td>\n",
       "      <td>-0.91%</td>\n",
       "      <td>$4,077</td>\n",
       "      <td>4.91%</td>\n",
       "      <td>$83.01B</td>\n",
       "      <td>3.59%</td>\n",
       "      <td>$3,870</td>\n",
       "      <td>1.57%</td>\n",
       "      <td>Null</td>\n",
       "      <td>Null</td>\n",
       "      <td>$83.01B</td>\n",
       "      <td>7.70%</td>\n",
       "      <td>3.75%</td>\n",
       "    </tr>\n",
       "  </tbody>\n",
       "</table>\n",
       "</div>"
      ],
      "text/plain": [
       "   Year   Population Population growth rate      GDP GDP growth percentage  \\\n",
       "0  2021  2,17,73,441                  0.27%  $84.52B                 3.66%   \n",
       "1  2020  2,17,15,079                  0.30%  $80.97B                -3.62%   \n",
       "2  2019  2,16,49,664                  0.32%  $83.90B                 2.33%   \n",
       "3  2018  2,15,80,710                  0.34%  $87.96B                 3.27%   \n",
       "4  2017  2,15,06,813                  0.38%  $87.43B                 3.58%   \n",
       "\n",
       "  Annual change in GDP growth GDP Per Capita  \\\n",
       "0                       7.27%         $3,815   \n",
       "1                      -5.94%         $3,694   \n",
       "2                      -0.94%         $3,848   \n",
       "3                      -0.31%         $4,059   \n",
       "4                      -0.91%         $4,077   \n",
       "\n",
       "  Annual Growth Rate in GDP Per Capita      GNI GNI Growth Rate  \\\n",
       "0                                3.27%  $84.57B           4.12%   \n",
       "1                               -4.01%  $81.45B          -3.45%   \n",
       "2                               -5.20%  $87.46B           2.14%   \n",
       "3                               -0.44%  $87.46B           3.19%   \n",
       "4                                4.91%  $83.01B           3.59%   \n",
       "\n",
       "  GNI Per Capita GNI Per Capita Annual Growth Rate  \\\n",
       "0         $3,820                             2.69%   \n",
       "1         $3,720                            -7.23%   \n",
       "2         $4,010                            -0.74%   \n",
       "3         $4,040                             4.39%   \n",
       "4         $3,870                             1.57%   \n",
       "\n",
       "  Government Debt as % of GDP Annual Change in Debt to GDP Ratio      GNP  \\\n",
       "0                        Null                               Null  $84.57B   \n",
       "1                        Null                               Null  $81.45B   \n",
       "2                        Null                               Null  $87.46B   \n",
       "3                        Null                               Null  $87.46B   \n",
       "4                        Null                               Null  $83.01B   \n",
       "\n",
       "  Inflation Rate Annual Change in Inflation Rate  \n",
       "0          7.01%                           0.86%  \n",
       "1          6.15%                           2.63%  \n",
       "2          3.53%                           1.39%  \n",
       "3          2.14%                          -5.57%  \n",
       "4          7.70%                           3.75%  "
      ]
     },
     "execution_count": 124,
     "metadata": {},
     "output_type": "execute_result"
    }
   ],
   "source": [
    "df1.head()"
   ]
  },
  {
   "cell_type": "code",
   "execution_count": 125,
   "id": "b02f2371",
   "metadata": {},
   "outputs": [
    {
     "data": {
      "text/html": [
       "<div>\n",
       "<style scoped>\n",
       "    .dataframe tbody tr th:only-of-type {\n",
       "        vertical-align: middle;\n",
       "    }\n",
       "\n",
       "    .dataframe tbody tr th {\n",
       "        vertical-align: top;\n",
       "    }\n",
       "\n",
       "    .dataframe thead th {\n",
       "        text-align: right;\n",
       "    }\n",
       "</style>\n",
       "<table border=\"1\" class=\"dataframe\">\n",
       "  <thead>\n",
       "    <tr style=\"text-align: right;\">\n",
       "      <th></th>\n",
       "      <th>Year</th>\n",
       "      <th>GDP</th>\n",
       "      <th>GDP per Capita</th>\n",
       "      <th>Growth</th>\n",
       "    </tr>\n",
       "  </thead>\n",
       "  <tbody>\n",
       "    <tr>\n",
       "      <th>0</th>\n",
       "      <td>2021.0</td>\n",
       "      <td>$22,996.10B</td>\n",
       "      <td>$69,288</td>\n",
       "      <td>5.67%</td>\n",
       "    </tr>\n",
       "    <tr>\n",
       "      <th>1</th>\n",
       "      <td>2020.0</td>\n",
       "      <td>$20,893.74B</td>\n",
       "      <td>$63,028</td>\n",
       "      <td>-3.40%</td>\n",
       "    </tr>\n",
       "    <tr>\n",
       "      <th>2</th>\n",
       "      <td>2019.0</td>\n",
       "      <td>$21,372.57B</td>\n",
       "      <td>$65,095</td>\n",
       "      <td>2.29%</td>\n",
       "    </tr>\n",
       "    <tr>\n",
       "      <th>3</th>\n",
       "      <td>2018.0</td>\n",
       "      <td>$20,527.16B</td>\n",
       "      <td>$62,805</td>\n",
       "      <td>2.92%</td>\n",
       "    </tr>\n",
       "    <tr>\n",
       "      <th>4</th>\n",
       "      <td>2017.0</td>\n",
       "      <td>$19,479.62B</td>\n",
       "      <td>$59,915</td>\n",
       "      <td>2.26%</td>\n",
       "    </tr>\n",
       "  </tbody>\n",
       "</table>\n",
       "</div>"
      ],
      "text/plain": [
       "     Year          GDP GDP per Capita  Growth\n",
       "0  2021.0  $22,996.10B       $69,288    5.67%\n",
       "1  2020.0  $20,893.74B       $63,028   -3.40%\n",
       "2  2019.0  $21,372.57B       $65,095    2.29%\n",
       "3  2018.0  $20,527.16B       $62,805    2.92%\n",
       "4  2017.0  $19,479.62B       $59,915    2.26%"
      ]
     },
     "execution_count": 125,
     "metadata": {},
     "output_type": "execute_result"
    }
   ],
   "source": [
    "df2.head()"
   ]
  },
  {
   "cell_type": "code",
   "execution_count": 126,
   "id": "de7d7e96",
   "metadata": {},
   "outputs": [
    {
     "name": "stdout",
     "output_type": "stream",
     "text": [
      "<class 'pandas.core.frame.DataFrame'>\n",
      "RangeIndex: 62 entries, 0 to 61\n",
      "Data columns (total 17 columns):\n",
      " #   Column                                Non-Null Count  Dtype \n",
      "---  ------                                --------------  ----- \n",
      " 0   Year                                  62 non-null     int64 \n",
      " 1   Population                            62 non-null     object\n",
      " 2   Population growth rate                62 non-null     object\n",
      " 3   GDP                                   62 non-null     object\n",
      " 4   GDP growth percentage                 62 non-null     object\n",
      " 5   Annual change in GDP growth           62 non-null     object\n",
      " 6   GDP Per Capita                        62 non-null     object\n",
      " 7   Annual Growth Rate in GDP Per Capita  62 non-null     object\n",
      " 8   GNI                                   62 non-null     object\n",
      " 9   GNI Growth Rate                       62 non-null     object\n",
      " 10  GNI Per Capita                        62 non-null     object\n",
      " 11  GNI Per Capita Annual Growth Rate     62 non-null     object\n",
      " 12  Government Debt as % of GDP           62 non-null     object\n",
      " 13  Annual Change in Debt to GDP Ratio    62 non-null     object\n",
      " 14  GNP                                   62 non-null     object\n",
      " 15  Inflation Rate                        62 non-null     object\n",
      " 16  Annual Change in Inflation Rate       62 non-null     object\n",
      "dtypes: int64(1), object(16)\n",
      "memory usage: 8.4+ KB\n"
     ]
    }
   ],
   "source": [
    "df1.info()"
   ]
  },
  {
   "cell_type": "code",
   "execution_count": 127,
   "id": "690514f3",
   "metadata": {},
   "outputs": [],
   "source": [
    "#so we need to convert to appropriate data types oth of datasets\n",
    "#lets take first dataset which represent informations about Sri Lanka \n",
    "#df1.head()\n",
    "#df1['Population'].fillna(0, inplace=True)\n",
    "df1['GDP'] = df1['GDP'].str.replace('B', '') \n",
    "df1['GDP'] = df1['GDP'].str.replace('$', '') "
   ]
  },
  {
   "cell_type": "code",
   "execution_count": 128,
   "id": "99cae639",
   "metadata": {},
   "outputs": [
    {
     "data": {
      "text/html": [
       "<div>\n",
       "<style scoped>\n",
       "    .dataframe tbody tr th:only-of-type {\n",
       "        vertical-align: middle;\n",
       "    }\n",
       "\n",
       "    .dataframe tbody tr th {\n",
       "        vertical-align: top;\n",
       "    }\n",
       "\n",
       "    .dataframe thead th {\n",
       "        text-align: right;\n",
       "    }\n",
       "</style>\n",
       "<table border=\"1\" class=\"dataframe\">\n",
       "  <thead>\n",
       "    <tr style=\"text-align: right;\">\n",
       "      <th></th>\n",
       "      <th>Year</th>\n",
       "      <th>Population</th>\n",
       "      <th>Population growth rate</th>\n",
       "      <th>GDP</th>\n",
       "      <th>GDP growth percentage</th>\n",
       "      <th>Annual change in GDP growth</th>\n",
       "      <th>GDP Per Capita</th>\n",
       "      <th>Annual Growth Rate in GDP Per Capita</th>\n",
       "      <th>GNI</th>\n",
       "      <th>GNI Growth Rate</th>\n",
       "      <th>GNI Per Capita</th>\n",
       "      <th>GNI Per Capita Annual Growth Rate</th>\n",
       "      <th>Government Debt as % of GDP</th>\n",
       "      <th>Annual Change in Debt to GDP Ratio</th>\n",
       "      <th>GNP</th>\n",
       "      <th>Inflation Rate</th>\n",
       "      <th>Annual Change in Inflation Rate</th>\n",
       "    </tr>\n",
       "  </thead>\n",
       "  <tbody>\n",
       "    <tr>\n",
       "      <th>0</th>\n",
       "      <td>2021</td>\n",
       "      <td>2,17,73,441</td>\n",
       "      <td>0.27%</td>\n",
       "      <td>84.52</td>\n",
       "      <td>3.66%</td>\n",
       "      <td>7.27%</td>\n",
       "      <td>$3,815</td>\n",
       "      <td>3.27%</td>\n",
       "      <td>$84.57B</td>\n",
       "      <td>4.12%</td>\n",
       "      <td>$3,820</td>\n",
       "      <td>2.69%</td>\n",
       "      <td>Null</td>\n",
       "      <td>Null</td>\n",
       "      <td>$84.57B</td>\n",
       "      <td>7.01%</td>\n",
       "      <td>0.86%</td>\n",
       "    </tr>\n",
       "    <tr>\n",
       "      <th>1</th>\n",
       "      <td>2020</td>\n",
       "      <td>2,17,15,079</td>\n",
       "      <td>0.30%</td>\n",
       "      <td>80.97</td>\n",
       "      <td>-3.62%</td>\n",
       "      <td>-5.94%</td>\n",
       "      <td>$3,694</td>\n",
       "      <td>-4.01%</td>\n",
       "      <td>$81.45B</td>\n",
       "      <td>-3.45%</td>\n",
       "      <td>$3,720</td>\n",
       "      <td>-7.23%</td>\n",
       "      <td>Null</td>\n",
       "      <td>Null</td>\n",
       "      <td>$81.45B</td>\n",
       "      <td>6.15%</td>\n",
       "      <td>2.63%</td>\n",
       "    </tr>\n",
       "    <tr>\n",
       "      <th>2</th>\n",
       "      <td>2019</td>\n",
       "      <td>2,16,49,664</td>\n",
       "      <td>0.32%</td>\n",
       "      <td>83.90</td>\n",
       "      <td>2.33%</td>\n",
       "      <td>-0.94%</td>\n",
       "      <td>$3,848</td>\n",
       "      <td>-5.20%</td>\n",
       "      <td>$87.46B</td>\n",
       "      <td>2.14%</td>\n",
       "      <td>$4,010</td>\n",
       "      <td>-0.74%</td>\n",
       "      <td>Null</td>\n",
       "      <td>Null</td>\n",
       "      <td>$87.46B</td>\n",
       "      <td>3.53%</td>\n",
       "      <td>1.39%</td>\n",
       "    </tr>\n",
       "    <tr>\n",
       "      <th>3</th>\n",
       "      <td>2018</td>\n",
       "      <td>2,15,80,710</td>\n",
       "      <td>0.34%</td>\n",
       "      <td>87.96</td>\n",
       "      <td>3.27%</td>\n",
       "      <td>-0.31%</td>\n",
       "      <td>$4,059</td>\n",
       "      <td>-0.44%</td>\n",
       "      <td>$87.46B</td>\n",
       "      <td>3.19%</td>\n",
       "      <td>$4,040</td>\n",
       "      <td>4.39%</td>\n",
       "      <td>Null</td>\n",
       "      <td>Null</td>\n",
       "      <td>$87.46B</td>\n",
       "      <td>2.14%</td>\n",
       "      <td>-5.57%</td>\n",
       "    </tr>\n",
       "    <tr>\n",
       "      <th>4</th>\n",
       "      <td>2017</td>\n",
       "      <td>2,15,06,813</td>\n",
       "      <td>0.38%</td>\n",
       "      <td>87.43</td>\n",
       "      <td>3.58%</td>\n",
       "      <td>-0.91%</td>\n",
       "      <td>$4,077</td>\n",
       "      <td>4.91%</td>\n",
       "      <td>$83.01B</td>\n",
       "      <td>3.59%</td>\n",
       "      <td>$3,870</td>\n",
       "      <td>1.57%</td>\n",
       "      <td>Null</td>\n",
       "      <td>Null</td>\n",
       "      <td>$83.01B</td>\n",
       "      <td>7.70%</td>\n",
       "      <td>3.75%</td>\n",
       "    </tr>\n",
       "  </tbody>\n",
       "</table>\n",
       "</div>"
      ],
      "text/plain": [
       "   Year   Population Population growth rate    GDP GDP growth percentage  \\\n",
       "0  2021  2,17,73,441                  0.27%  84.52                 3.66%   \n",
       "1  2020  2,17,15,079                  0.30%  80.97                -3.62%   \n",
       "2  2019  2,16,49,664                  0.32%  83.90                 2.33%   \n",
       "3  2018  2,15,80,710                  0.34%  87.96                 3.27%   \n",
       "4  2017  2,15,06,813                  0.38%  87.43                 3.58%   \n",
       "\n",
       "  Annual change in GDP growth GDP Per Capita  \\\n",
       "0                       7.27%         $3,815   \n",
       "1                      -5.94%         $3,694   \n",
       "2                      -0.94%         $3,848   \n",
       "3                      -0.31%         $4,059   \n",
       "4                      -0.91%         $4,077   \n",
       "\n",
       "  Annual Growth Rate in GDP Per Capita      GNI GNI Growth Rate  \\\n",
       "0                                3.27%  $84.57B           4.12%   \n",
       "1                               -4.01%  $81.45B          -3.45%   \n",
       "2                               -5.20%  $87.46B           2.14%   \n",
       "3                               -0.44%  $87.46B           3.19%   \n",
       "4                                4.91%  $83.01B           3.59%   \n",
       "\n",
       "  GNI Per Capita GNI Per Capita Annual Growth Rate  \\\n",
       "0         $3,820                             2.69%   \n",
       "1         $3,720                            -7.23%   \n",
       "2         $4,010                            -0.74%   \n",
       "3         $4,040                             4.39%   \n",
       "4         $3,870                             1.57%   \n",
       "\n",
       "  Government Debt as % of GDP Annual Change in Debt to GDP Ratio      GNP  \\\n",
       "0                        Null                               Null  $84.57B   \n",
       "1                        Null                               Null  $81.45B   \n",
       "2                        Null                               Null  $87.46B   \n",
       "3                        Null                               Null  $87.46B   \n",
       "4                        Null                               Null  $83.01B   \n",
       "\n",
       "  Inflation Rate Annual Change in Inflation Rate  \n",
       "0          7.01%                           0.86%  \n",
       "1          6.15%                           2.63%  \n",
       "2          3.53%                           1.39%  \n",
       "3          2.14%                          -5.57%  \n",
       "4          7.70%                           3.75%  "
      ]
     },
     "execution_count": 128,
     "metadata": {},
     "output_type": "execute_result"
    }
   ],
   "source": [
    "df1.head()\n",
    "#df2.info()"
   ]
  },
  {
   "cell_type": "code",
   "execution_count": 129,
   "metadata": {},
   "outputs": [
    {
     "data": {
      "text/html": [
       "<div>\n",
       "<style scoped>\n",
       "    .dataframe tbody tr th:only-of-type {\n",
       "        vertical-align: middle;\n",
       "    }\n",
       "\n",
       "    .dataframe tbody tr th {\n",
       "        vertical-align: top;\n",
       "    }\n",
       "\n",
       "    .dataframe thead th {\n",
       "        text-align: right;\n",
       "    }\n",
       "</style>\n",
       "<table border=\"1\" class=\"dataframe\">\n",
       "  <thead>\n",
       "    <tr style=\"text-align: right;\">\n",
       "      <th></th>\n",
       "      <th>Year</th>\n",
       "      <th>Population</th>\n",
       "      <th>Population growth rate</th>\n",
       "      <th>GDP</th>\n",
       "      <th>GDP growth percentage</th>\n",
       "      <th>Annual change in GDP growth</th>\n",
       "      <th>GDP Per Capita</th>\n",
       "      <th>Annual Growth Rate in GDP Per Capita</th>\n",
       "      <th>GNI</th>\n",
       "      <th>GNI Growth Rate</th>\n",
       "      <th>GNI Per Capita</th>\n",
       "      <th>GNI Per Capita Annual Growth Rate</th>\n",
       "      <th>Government Debt as % of GDP</th>\n",
       "      <th>Annual Change in Debt to GDP Ratio</th>\n",
       "      <th>GNP</th>\n",
       "      <th>Inflation Rate</th>\n",
       "      <th>Annual Change in Inflation Rate</th>\n",
       "    </tr>\n",
       "  </thead>\n",
       "  <tbody>\n",
       "    <tr>\n",
       "      <th>0</th>\n",
       "      <td>2021</td>\n",
       "      <td>2,17,73,441</td>\n",
       "      <td>0.27%</td>\n",
       "      <td>84.52</td>\n",
       "      <td>3.66%</td>\n",
       "      <td>7.27%</td>\n",
       "      <td>$3,815</td>\n",
       "      <td>3.27%</td>\n",
       "      <td>$84.57B</td>\n",
       "      <td>4.12%</td>\n",
       "      <td>$3,820</td>\n",
       "      <td>2.69%</td>\n",
       "      <td>Null</td>\n",
       "      <td>Null</td>\n",
       "      <td>$84.57B</td>\n",
       "      <td>7.01%</td>\n",
       "      <td>0.86%</td>\n",
       "    </tr>\n",
       "    <tr>\n",
       "      <th>1</th>\n",
       "      <td>2020</td>\n",
       "      <td>2,17,15,079</td>\n",
       "      <td>0.30%</td>\n",
       "      <td>80.97</td>\n",
       "      <td>-3.62%</td>\n",
       "      <td>-5.94%</td>\n",
       "      <td>$3,694</td>\n",
       "      <td>-4.01%</td>\n",
       "      <td>$81.45B</td>\n",
       "      <td>-3.45%</td>\n",
       "      <td>$3,720</td>\n",
       "      <td>-7.23%</td>\n",
       "      <td>Null</td>\n",
       "      <td>Null</td>\n",
       "      <td>$81.45B</td>\n",
       "      <td>6.15%</td>\n",
       "      <td>2.63%</td>\n",
       "    </tr>\n",
       "    <tr>\n",
       "      <th>2</th>\n",
       "      <td>2019</td>\n",
       "      <td>2,16,49,664</td>\n",
       "      <td>0.32%</td>\n",
       "      <td>83.90</td>\n",
       "      <td>2.33%</td>\n",
       "      <td>-0.94%</td>\n",
       "      <td>$3,848</td>\n",
       "      <td>-5.20%</td>\n",
       "      <td>$87.46B</td>\n",
       "      <td>2.14%</td>\n",
       "      <td>$4,010</td>\n",
       "      <td>-0.74%</td>\n",
       "      <td>Null</td>\n",
       "      <td>Null</td>\n",
       "      <td>$87.46B</td>\n",
       "      <td>3.53%</td>\n",
       "      <td>1.39%</td>\n",
       "    </tr>\n",
       "    <tr>\n",
       "      <th>3</th>\n",
       "      <td>2018</td>\n",
       "      <td>2,15,80,710</td>\n",
       "      <td>0.34%</td>\n",
       "      <td>87.96</td>\n",
       "      <td>3.27%</td>\n",
       "      <td>-0.31%</td>\n",
       "      <td>$4,059</td>\n",
       "      <td>-0.44%</td>\n",
       "      <td>$87.46B</td>\n",
       "      <td>3.19%</td>\n",
       "      <td>$4,040</td>\n",
       "      <td>4.39%</td>\n",
       "      <td>Null</td>\n",
       "      <td>Null</td>\n",
       "      <td>$87.46B</td>\n",
       "      <td>2.14%</td>\n",
       "      <td>-5.57%</td>\n",
       "    </tr>\n",
       "    <tr>\n",
       "      <th>4</th>\n",
       "      <td>2017</td>\n",
       "      <td>2,15,06,813</td>\n",
       "      <td>0.38%</td>\n",
       "      <td>87.43</td>\n",
       "      <td>3.58%</td>\n",
       "      <td>-0.91%</td>\n",
       "      <td>$4,077</td>\n",
       "      <td>4.91%</td>\n",
       "      <td>$83.01B</td>\n",
       "      <td>3.59%</td>\n",
       "      <td>$3,870</td>\n",
       "      <td>1.57%</td>\n",
       "      <td>Null</td>\n",
       "      <td>Null</td>\n",
       "      <td>$83.01B</td>\n",
       "      <td>7.70%</td>\n",
       "      <td>3.75%</td>\n",
       "    </tr>\n",
       "  </tbody>\n",
       "</table>\n",
       "</div>"
      ],
      "text/plain": [
       "   Year   Population Population growth rate    GDP GDP growth percentage  \\\n",
       "0  2021  2,17,73,441                  0.27%  84.52                 3.66%   \n",
       "1  2020  2,17,15,079                  0.30%  80.97                -3.62%   \n",
       "2  2019  2,16,49,664                  0.32%  83.90                 2.33%   \n",
       "3  2018  2,15,80,710                  0.34%  87.96                 3.27%   \n",
       "4  2017  2,15,06,813                  0.38%  87.43                 3.58%   \n",
       "\n",
       "  Annual change in GDP growth GDP Per Capita  \\\n",
       "0                       7.27%         $3,815   \n",
       "1                      -5.94%         $3,694   \n",
       "2                      -0.94%         $3,848   \n",
       "3                      -0.31%         $4,059   \n",
       "4                      -0.91%         $4,077   \n",
       "\n",
       "  Annual Growth Rate in GDP Per Capita      GNI GNI Growth Rate  \\\n",
       "0                                3.27%  $84.57B           4.12%   \n",
       "1                               -4.01%  $81.45B          -3.45%   \n",
       "2                               -5.20%  $87.46B           2.14%   \n",
       "3                               -0.44%  $87.46B           3.19%   \n",
       "4                                4.91%  $83.01B           3.59%   \n",
       "\n",
       "  GNI Per Capita GNI Per Capita Annual Growth Rate  \\\n",
       "0         $3,820                             2.69%   \n",
       "1         $3,720                            -7.23%   \n",
       "2         $4,010                            -0.74%   \n",
       "3         $4,040                             4.39%   \n",
       "4         $3,870                             1.57%   \n",
       "\n",
       "  Government Debt as % of GDP Annual Change in Debt to GDP Ratio      GNP  \\\n",
       "0                        Null                               Null  $84.57B   \n",
       "1                        Null                               Null  $81.45B   \n",
       "2                        Null                               Null  $87.46B   \n",
       "3                        Null                               Null  $87.46B   \n",
       "4                        Null                               Null  $83.01B   \n",
       "\n",
       "  Inflation Rate Annual Change in Inflation Rate  \n",
       "0          7.01%                           0.86%  \n",
       "1          6.15%                           2.63%  \n",
       "2          3.53%                           1.39%  \n",
       "3          2.14%                          -5.57%  \n",
       "4          7.70%                           3.75%  "
      ]
     },
     "execution_count": 129,
     "metadata": {},
     "output_type": "execute_result"
    }
   ],
   "source": [
    "df1['GDP'] = df1['GDP'].astype(float) #convert cleaned string into int \n",
    "df1.head()"
   ]
  },
  {
   "cell_type": "code",
   "execution_count": 130,
   "id": "46a1b32e",
   "metadata": {},
   "outputs": [
    {
     "name": "stdout",
     "output_type": "stream",
     "text": [
      "<class 'pandas.core.frame.DataFrame'>\n",
      "RangeIndex: 62 entries, 0 to 61\n",
      "Data columns (total 17 columns):\n",
      " #   Column                                Non-Null Count  Dtype  \n",
      "---  ------                                --------------  -----  \n",
      " 0   Year                                  62 non-null     int64  \n",
      " 1   Population                            62 non-null     object \n",
      " 2   Population growth rate                62 non-null     object \n",
      " 3   GDP                                   62 non-null     float64\n",
      " 4   GDP growth percentage                 62 non-null     object \n",
      " 5   Annual change in GDP growth           62 non-null     object \n",
      " 6   GDP Per Capita                        62 non-null     object \n",
      " 7   Annual Growth Rate in GDP Per Capita  62 non-null     object \n",
      " 8   GNI                                   62 non-null     object \n",
      " 9   GNI Growth Rate                       62 non-null     object \n",
      " 10  GNI Per Capita                        62 non-null     object \n",
      " 11  GNI Per Capita Annual Growth Rate     62 non-null     object \n",
      " 12  Government Debt as % of GDP           62 non-null     object \n",
      " 13  Annual Change in Debt to GDP Ratio    62 non-null     object \n",
      " 14  GNP                                   62 non-null     object \n",
      " 15  Inflation Rate                        62 non-null     object \n",
      " 16  Annual Change in Inflation Rate       62 non-null     object \n",
      "dtypes: float64(1), int64(1), object(15)\n",
      "memory usage: 8.4+ KB\n"
     ]
    }
   ],
   "source": [
    "df1.info()"
   ]
  },
  {
   "cell_type": "code",
   "execution_count": 131,
   "id": "1a6692c2",
   "metadata": {},
   "outputs": [],
   "source": [
    "\n",
    "new_names = {'GDP': 'GDP_in_B',\n",
    "             'GNI':'GNI_in_B',\n",
    "             'GNP':'GNP_in_B'\n",
    "             # Add more mappings as needed\n",
    "            }\n",
    "\n",
    "# Rename the columns using the rename() method\n",
    "df1.rename(columns=new_names, inplace=True)"
   ]
  },
  {
   "cell_type": "code",
   "execution_count": 132,
   "id": "62f24cac",
   "metadata": {},
   "outputs": [
    {
     "data": {
      "text/plain": [
       "Year                                    0\n",
       "Population                              0\n",
       "Population growth rate                  0\n",
       "GDP_in_B                                0\n",
       "GDP growth percentage                   0\n",
       "Annual change in GDP growth             0\n",
       "GDP Per Capita                          0\n",
       "Annual Growth Rate in GDP Per Capita    0\n",
       "GNI_in_B                                0\n",
       "GNI Growth Rate                         0\n",
       "GNI Per Capita                          0\n",
       "GNI Per Capita Annual Growth Rate       0\n",
       "Government Debt as % of GDP             0\n",
       "Annual Change in Debt to GDP Ratio      0\n",
       "GNP_in_B                                0\n",
       "Inflation Rate                          0\n",
       "Annual Change in Inflation Rate         0\n",
       "dtype: int64"
      ]
     },
     "execution_count": 132,
     "metadata": {},
     "output_type": "execute_result"
    }
   ],
   "source": [
    "#cheking for null values on Sri Lanka dataset\n",
    "df1.isnull().sum()\n"
   ]
  },
  {
   "cell_type": "code",
   "execution_count": 133,
   "id": "f04a0b15",
   "metadata": {},
   "outputs": [
    {
     "data": {
      "text/plain": [
       "Year              1\n",
       "GDP               1\n",
       "GDP per Capita    1\n",
       "Growth            1\n",
       "dtype: int64"
      ]
     },
     "execution_count": 133,
     "metadata": {},
     "output_type": "execute_result"
    }
   ],
   "source": [
    "#cheking for null values on USA  dataset \n",
    "df2.isnull().sum()"
   ]
  },
  {
   "cell_type": "code",
   "execution_count": 134,
   "id": "19ae4f68",
   "metadata": {},
   "outputs": [],
   "source": [
    "#Drops which having null values \n",
    "df1.dropna(inplace=True)\n",
    "df2.dropna(inplace=True)"
   ]
  },
  {
   "cell_type": "code",
   "execution_count": 135,
   "id": "2aa1d0e7",
   "metadata": {},
   "outputs": [
    {
     "data": {
      "text/plain": [
       "False    62\n",
       "Name: count, dtype: int64"
      ]
     },
     "execution_count": 135,
     "metadata": {},
     "output_type": "execute_result"
    }
   ],
   "source": [
    "#find duplicate rows count on USA dataset \n",
    "df1.duplicated().value_counts()"
   ]
  },
  {
   "cell_type": "code",
   "execution_count": 136,
   "id": "583adbf2",
   "metadata": {},
   "outputs": [
    {
     "data": {
      "text/plain": [
       "False    61\n",
       "Name: count, dtype: int64"
      ]
     },
     "execution_count": 136,
     "metadata": {},
     "output_type": "execute_result"
    }
   ],
   "source": [
    "#check dulications on Sri Lanka dataset \n",
    "df2.duplicated().value_counts()"
   ]
  },
  {
   "cell_type": "code",
   "execution_count": 137,
   "id": "ccd86aeb",
   "metadata": {},
   "outputs": [],
   "source": [
    "#convert year to int type on Sri Lanka dataset \n",
    "df2['Year'] = df2['Year'].astype(int)"
   ]
  },
  {
   "cell_type": "code",
   "execution_count": 138,
   "id": "5833af3a",
   "metadata": {},
   "outputs": [
    {
     "data": {
      "text/html": [
       "<div>\n",
       "<style scoped>\n",
       "    .dataframe tbody tr th:only-of-type {\n",
       "        vertical-align: middle;\n",
       "    }\n",
       "\n",
       "    .dataframe tbody tr th {\n",
       "        vertical-align: top;\n",
       "    }\n",
       "\n",
       "    .dataframe thead th {\n",
       "        text-align: right;\n",
       "    }\n",
       "</style>\n",
       "<table border=\"1\" class=\"dataframe\">\n",
       "  <thead>\n",
       "    <tr style=\"text-align: right;\">\n",
       "      <th></th>\n",
       "      <th>Year</th>\n",
       "      <th>Population</th>\n",
       "      <th>Population growth rate</th>\n",
       "      <th>GDP_in_B</th>\n",
       "      <th>GDP growth percentage</th>\n",
       "      <th>Annual change in GDP growth</th>\n",
       "      <th>GDP Per Capita</th>\n",
       "      <th>Annual Growth Rate in GDP Per Capita</th>\n",
       "      <th>GNI_in_B</th>\n",
       "      <th>GNI Growth Rate</th>\n",
       "      <th>GNI Per Capita</th>\n",
       "      <th>GNI Per Capita Annual Growth Rate</th>\n",
       "      <th>Government Debt as % of GDP</th>\n",
       "      <th>Annual Change in Debt to GDP Ratio</th>\n",
       "      <th>GNP_in_B</th>\n",
       "      <th>Inflation Rate</th>\n",
       "      <th>Annual Change in Inflation Rate</th>\n",
       "    </tr>\n",
       "  </thead>\n",
       "  <tbody>\n",
       "    <tr>\n",
       "      <th>0</th>\n",
       "      <td>2021</td>\n",
       "      <td>2,17,73,441</td>\n",
       "      <td>0.27%</td>\n",
       "      <td>84.52</td>\n",
       "      <td>3.66%</td>\n",
       "      <td>7.27%</td>\n",
       "      <td>$3,815</td>\n",
       "      <td>3.27%</td>\n",
       "      <td>84.57</td>\n",
       "      <td>4.12%</td>\n",
       "      <td>$3,820</td>\n",
       "      <td>2.69%</td>\n",
       "      <td>Null</td>\n",
       "      <td>Null</td>\n",
       "      <td>84.57</td>\n",
       "      <td>7.01%</td>\n",
       "      <td>0.86%</td>\n",
       "    </tr>\n",
       "    <tr>\n",
       "      <th>1</th>\n",
       "      <td>2020</td>\n",
       "      <td>2,17,15,079</td>\n",
       "      <td>0.30%</td>\n",
       "      <td>80.97</td>\n",
       "      <td>-3.62%</td>\n",
       "      <td>-5.94%</td>\n",
       "      <td>$3,694</td>\n",
       "      <td>-4.01%</td>\n",
       "      <td>81.45</td>\n",
       "      <td>-3.45%</td>\n",
       "      <td>$3,720</td>\n",
       "      <td>-7.23%</td>\n",
       "      <td>Null</td>\n",
       "      <td>Null</td>\n",
       "      <td>81.45</td>\n",
       "      <td>6.15%</td>\n",
       "      <td>2.63%</td>\n",
       "    </tr>\n",
       "    <tr>\n",
       "      <th>2</th>\n",
       "      <td>2019</td>\n",
       "      <td>2,16,49,664</td>\n",
       "      <td>0.32%</td>\n",
       "      <td>83.90</td>\n",
       "      <td>2.33%</td>\n",
       "      <td>-0.94%</td>\n",
       "      <td>$3,848</td>\n",
       "      <td>-5.20%</td>\n",
       "      <td>87.46</td>\n",
       "      <td>2.14%</td>\n",
       "      <td>$4,010</td>\n",
       "      <td>-0.74%</td>\n",
       "      <td>Null</td>\n",
       "      <td>Null</td>\n",
       "      <td>87.46</td>\n",
       "      <td>3.53%</td>\n",
       "      <td>1.39%</td>\n",
       "    </tr>\n",
       "    <tr>\n",
       "      <th>3</th>\n",
       "      <td>2018</td>\n",
       "      <td>2,15,80,710</td>\n",
       "      <td>0.34%</td>\n",
       "      <td>87.96</td>\n",
       "      <td>3.27%</td>\n",
       "      <td>-0.31%</td>\n",
       "      <td>$4,059</td>\n",
       "      <td>-0.44%</td>\n",
       "      <td>87.46</td>\n",
       "      <td>3.19%</td>\n",
       "      <td>$4,040</td>\n",
       "      <td>4.39%</td>\n",
       "      <td>Null</td>\n",
       "      <td>Null</td>\n",
       "      <td>87.46</td>\n",
       "      <td>2.14%</td>\n",
       "      <td>-5.57%</td>\n",
       "    </tr>\n",
       "    <tr>\n",
       "      <th>4</th>\n",
       "      <td>2017</td>\n",
       "      <td>2,15,06,813</td>\n",
       "      <td>0.38%</td>\n",
       "      <td>87.43</td>\n",
       "      <td>3.58%</td>\n",
       "      <td>-0.91%</td>\n",
       "      <td>$4,077</td>\n",
       "      <td>4.91%</td>\n",
       "      <td>83.01</td>\n",
       "      <td>3.59%</td>\n",
       "      <td>$3,870</td>\n",
       "      <td>1.57%</td>\n",
       "      <td>Null</td>\n",
       "      <td>Null</td>\n",
       "      <td>83.01</td>\n",
       "      <td>7.70%</td>\n",
       "      <td>3.75%</td>\n",
       "    </tr>\n",
       "  </tbody>\n",
       "</table>\n",
       "</div>"
      ],
      "text/plain": [
       "   Year   Population Population growth rate  GDP_in_B GDP growth percentage  \\\n",
       "0  2021  2,17,73,441                  0.27%     84.52                 3.66%   \n",
       "1  2020  2,17,15,079                  0.30%     80.97                -3.62%   \n",
       "2  2019  2,16,49,664                  0.32%     83.90                 2.33%   \n",
       "3  2018  2,15,80,710                  0.34%     87.96                 3.27%   \n",
       "4  2017  2,15,06,813                  0.38%     87.43                 3.58%   \n",
       "\n",
       "  Annual change in GDP growth GDP Per Capita  \\\n",
       "0                       7.27%         $3,815   \n",
       "1                      -5.94%         $3,694   \n",
       "2                      -0.94%         $3,848   \n",
       "3                      -0.31%         $4,059   \n",
       "4                      -0.91%         $4,077   \n",
       "\n",
       "  Annual Growth Rate in GDP Per Capita GNI_in_B GNI Growth Rate  \\\n",
       "0                                3.27%    84.57           4.12%   \n",
       "1                               -4.01%    81.45          -3.45%   \n",
       "2                               -5.20%    87.46           2.14%   \n",
       "3                               -0.44%    87.46           3.19%   \n",
       "4                                4.91%    83.01           3.59%   \n",
       "\n",
       "  GNI Per Capita GNI Per Capita Annual Growth Rate  \\\n",
       "0         $3,820                             2.69%   \n",
       "1         $3,720                            -7.23%   \n",
       "2         $4,010                            -0.74%   \n",
       "3         $4,040                             4.39%   \n",
       "4         $3,870                             1.57%   \n",
       "\n",
       "  Government Debt as % of GDP Annual Change in Debt to GDP Ratio GNP_in_B  \\\n",
       "0                        Null                               Null    84.57   \n",
       "1                        Null                               Null    81.45   \n",
       "2                        Null                               Null    87.46   \n",
       "3                        Null                               Null    87.46   \n",
       "4                        Null                               Null    83.01   \n",
       "\n",
       "  Inflation Rate Annual Change in Inflation Rate  \n",
       "0          7.01%                           0.86%  \n",
       "1          6.15%                           2.63%  \n",
       "2          3.53%                           1.39%  \n",
       "3          2.14%                          -5.57%  \n",
       "4          7.70%                           3.75%  "
      ]
     },
     "execution_count": 138,
     "metadata": {},
     "output_type": "execute_result"
    }
   ],
   "source": [
    "\n",
    "#lets clean strings removing unwanted values\n",
    "df1['GNI_in_B'] = df1['GNI_in_B'].str.replace('B', '') \n",
    "df1['GNI_in_B'] = df1['GNI_in_B'].str.replace('$', '') \n",
    "\n",
    "df1['GNP_in_B'] = df1['GNP_in_B'].str.replace('B', '') \n",
    "df1['GNP_in_B'] = df1['GNP_in_B'].str.replace('$', '') \n",
    "df1.head()\n"
   ]
  },
  {
   "cell_type": "code",
   "execution_count": 139,
   "id": "227ae4fa",
   "metadata": {},
   "outputs": [
    {
     "data": {
      "text/html": [
       "<div>\n",
       "<style scoped>\n",
       "    .dataframe tbody tr th:only-of-type {\n",
       "        vertical-align: middle;\n",
       "    }\n",
       "\n",
       "    .dataframe tbody tr th {\n",
       "        vertical-align: top;\n",
       "    }\n",
       "\n",
       "    .dataframe thead th {\n",
       "        text-align: right;\n",
       "    }\n",
       "</style>\n",
       "<table border=\"1\" class=\"dataframe\">\n",
       "  <thead>\n",
       "    <tr style=\"text-align: right;\">\n",
       "      <th></th>\n",
       "      <th>Year</th>\n",
       "      <th>Population</th>\n",
       "      <th>Population growth rate</th>\n",
       "      <th>GDP_in_B</th>\n",
       "      <th>GDP growth percentage</th>\n",
       "      <th>Annual change in GDP growth</th>\n",
       "      <th>GDP Per Capita</th>\n",
       "      <th>Annual Growth Rate in GDP Per Capita</th>\n",
       "      <th>GNI_in_B</th>\n",
       "      <th>GNI Growth Rate</th>\n",
       "      <th>GNI Per Capita</th>\n",
       "      <th>GNI Per Capita Annual Growth Rate</th>\n",
       "      <th>Government Debt as % of GDP</th>\n",
       "      <th>Annual Change in Debt to GDP Ratio</th>\n",
       "      <th>GNP_in_B</th>\n",
       "      <th>Inflation Rate</th>\n",
       "      <th>Annual Change in Inflation Rate</th>\n",
       "    </tr>\n",
       "  </thead>\n",
       "  <tbody>\n",
       "    <tr>\n",
       "      <th>0</th>\n",
       "      <td>2021</td>\n",
       "      <td>2,17,73,441</td>\n",
       "      <td>0.27%</td>\n",
       "      <td>84.52</td>\n",
       "      <td>3.66%</td>\n",
       "      <td>7.27%</td>\n",
       "      <td>3,815</td>\n",
       "      <td>3.27</td>\n",
       "      <td>84.57</td>\n",
       "      <td>4.12</td>\n",
       "      <td>3,820</td>\n",
       "      <td>2.69</td>\n",
       "      <td>Null</td>\n",
       "      <td>Null</td>\n",
       "      <td>84.57</td>\n",
       "      <td>7.01</td>\n",
       "      <td>0.86</td>\n",
       "    </tr>\n",
       "    <tr>\n",
       "      <th>1</th>\n",
       "      <td>2020</td>\n",
       "      <td>2,17,15,079</td>\n",
       "      <td>0.30%</td>\n",
       "      <td>80.97</td>\n",
       "      <td>-3.62%</td>\n",
       "      <td>-5.94%</td>\n",
       "      <td>3,694</td>\n",
       "      <td>-4.01</td>\n",
       "      <td>81.45</td>\n",
       "      <td>-3.45</td>\n",
       "      <td>3,720</td>\n",
       "      <td>-7.23</td>\n",
       "      <td>Null</td>\n",
       "      <td>Null</td>\n",
       "      <td>81.45</td>\n",
       "      <td>6.15</td>\n",
       "      <td>2.63</td>\n",
       "    </tr>\n",
       "    <tr>\n",
       "      <th>2</th>\n",
       "      <td>2019</td>\n",
       "      <td>2,16,49,664</td>\n",
       "      <td>0.32%</td>\n",
       "      <td>83.90</td>\n",
       "      <td>2.33%</td>\n",
       "      <td>-0.94%</td>\n",
       "      <td>3,848</td>\n",
       "      <td>-5.20</td>\n",
       "      <td>87.46</td>\n",
       "      <td>2.14</td>\n",
       "      <td>4,010</td>\n",
       "      <td>-0.74</td>\n",
       "      <td>Null</td>\n",
       "      <td>Null</td>\n",
       "      <td>87.46</td>\n",
       "      <td>3.53</td>\n",
       "      <td>1.39</td>\n",
       "    </tr>\n",
       "    <tr>\n",
       "      <th>3</th>\n",
       "      <td>2018</td>\n",
       "      <td>2,15,80,710</td>\n",
       "      <td>0.34%</td>\n",
       "      <td>87.96</td>\n",
       "      <td>3.27%</td>\n",
       "      <td>-0.31%</td>\n",
       "      <td>4,059</td>\n",
       "      <td>-0.44</td>\n",
       "      <td>87.46</td>\n",
       "      <td>3.19</td>\n",
       "      <td>4,040</td>\n",
       "      <td>4.39</td>\n",
       "      <td>Null</td>\n",
       "      <td>Null</td>\n",
       "      <td>87.46</td>\n",
       "      <td>2.14</td>\n",
       "      <td>-5.57</td>\n",
       "    </tr>\n",
       "    <tr>\n",
       "      <th>4</th>\n",
       "      <td>2017</td>\n",
       "      <td>2,15,06,813</td>\n",
       "      <td>0.38%</td>\n",
       "      <td>87.43</td>\n",
       "      <td>3.58%</td>\n",
       "      <td>-0.91%</td>\n",
       "      <td>4,077</td>\n",
       "      <td>4.91</td>\n",
       "      <td>83.01</td>\n",
       "      <td>3.59</td>\n",
       "      <td>3,870</td>\n",
       "      <td>1.57</td>\n",
       "      <td>Null</td>\n",
       "      <td>Null</td>\n",
       "      <td>83.01</td>\n",
       "      <td>7.70</td>\n",
       "      <td>3.75</td>\n",
       "    </tr>\n",
       "  </tbody>\n",
       "</table>\n",
       "</div>"
      ],
      "text/plain": [
       "   Year   Population Population growth rate  GDP_in_B GDP growth percentage  \\\n",
       "0  2021  2,17,73,441                  0.27%     84.52                 3.66%   \n",
       "1  2020  2,17,15,079                  0.30%     80.97                -3.62%   \n",
       "2  2019  2,16,49,664                  0.32%     83.90                 2.33%   \n",
       "3  2018  2,15,80,710                  0.34%     87.96                 3.27%   \n",
       "4  2017  2,15,06,813                  0.38%     87.43                 3.58%   \n",
       "\n",
       "  Annual change in GDP growth GDP Per Capita  \\\n",
       "0                       7.27%          3,815   \n",
       "1                      -5.94%          3,694   \n",
       "2                      -0.94%          3,848   \n",
       "3                      -0.31%          4,059   \n",
       "4                      -0.91%          4,077   \n",
       "\n",
       "  Annual Growth Rate in GDP Per Capita GNI_in_B GNI Growth Rate  \\\n",
       "0                                 3.27    84.57            4.12   \n",
       "1                                -4.01    81.45           -3.45   \n",
       "2                                -5.20    87.46            2.14   \n",
       "3                                -0.44    87.46            3.19   \n",
       "4                                 4.91    83.01            3.59   \n",
       "\n",
       "  GNI Per Capita GNI Per Capita Annual Growth Rate  \\\n",
       "0          3,820                              2.69   \n",
       "1          3,720                             -7.23   \n",
       "2          4,010                             -0.74   \n",
       "3          4,040                              4.39   \n",
       "4          3,870                              1.57   \n",
       "\n",
       "  Government Debt as % of GDP Annual Change in Debt to GDP Ratio GNP_in_B  \\\n",
       "0                        Null                               Null    84.57   \n",
       "1                        Null                               Null    81.45   \n",
       "2                        Null                               Null    87.46   \n",
       "3                        Null                               Null    87.46   \n",
       "4                        Null                               Null    83.01   \n",
       "\n",
       "  Inflation Rate Annual Change in Inflation Rate  \n",
       "0           7.01                            0.86  \n",
       "1           6.15                            2.63  \n",
       "2           3.53                            1.39  \n",
       "3           2.14                           -5.57  \n",
       "4           7.70                            3.75  "
      ]
     },
     "execution_count": 139,
     "metadata": {},
     "output_type": "execute_result"
    }
   ],
   "source": [
    "df1['GDP Per Capita'] = df1['GDP Per Capita'].str.replace('$', '') \n",
    "df1['Annual Growth Rate in GDP Per Capita'] = df1['Annual Growth Rate in GDP Per Capita'].str.replace('%', '') \n",
    "df1['GNI Growth Rate'] = df1['GNI Growth Rate'].str.replace('%', '') \n",
    "df1['GNI Per Capita'] = df1['GNI Per Capita'].str.replace('$', '') \n",
    "df1['GNI Per Capita Annual Growth Rate'] = df1['GNI Per Capita Annual Growth Rate'].str.replace('%', '') \n",
    "df1['Inflation Rate'] = df1['Inflation Rate'].str.replace('%', '') \n",
    "df1['Annual Change in Inflation Rate'] = df1['Annual Change in Inflation Rate'].str.replace('%', '') \n",
    "df1.head()"
   ]
  },
  {
   "cell_type": "code",
   "execution_count": 140,
   "id": "0131cf73",
   "metadata": {},
   "outputs": [],
   "source": [
    "\n",
    "df1['Population'] = df1['Population'].str.replace(',', '') \n",
    "df1.rename(columns={'Population': 'Population_in_M'}, inplace=True)"
   ]
  },
  {
   "cell_type": "code",
   "execution_count": 141,
   "id": "09c2ea13",
   "metadata": {},
   "outputs": [
    {
     "data": {
      "text/html": [
       "<div>\n",
       "<style scoped>\n",
       "    .dataframe tbody tr th:only-of-type {\n",
       "        vertical-align: middle;\n",
       "    }\n",
       "\n",
       "    .dataframe tbody tr th {\n",
       "        vertical-align: top;\n",
       "    }\n",
       "\n",
       "    .dataframe thead th {\n",
       "        text-align: right;\n",
       "    }\n",
       "</style>\n",
       "<table border=\"1\" class=\"dataframe\">\n",
       "  <thead>\n",
       "    <tr style=\"text-align: right;\">\n",
       "      <th></th>\n",
       "      <th>Year</th>\n",
       "      <th>Population_in_M</th>\n",
       "      <th>Population growth rate</th>\n",
       "      <th>GDP_in_B</th>\n",
       "      <th>GDP growth percentage</th>\n",
       "      <th>Annual change in GDP growth</th>\n",
       "      <th>GDP Per Capita</th>\n",
       "      <th>Annual Growth Rate in GDP Per Capita</th>\n",
       "      <th>GNI_in_B</th>\n",
       "      <th>GNI Growth Rate</th>\n",
       "      <th>GNI Per Capita</th>\n",
       "      <th>GNI Per Capita Annual Growth Rate</th>\n",
       "      <th>Government Debt as % of GDP</th>\n",
       "      <th>Annual Change in Debt to GDP Ratio</th>\n",
       "      <th>GNP_in_B</th>\n",
       "      <th>Inflation Rate</th>\n",
       "      <th>Annual Change in Inflation Rate</th>\n",
       "    </tr>\n",
       "  </thead>\n",
       "  <tbody>\n",
       "    <tr>\n",
       "      <th>0</th>\n",
       "      <td>2021</td>\n",
       "      <td>21773441</td>\n",
       "      <td>0.27%</td>\n",
       "      <td>84.52</td>\n",
       "      <td>3.66%</td>\n",
       "      <td>7.27%</td>\n",
       "      <td>3,815</td>\n",
       "      <td>3.27</td>\n",
       "      <td>84.57</td>\n",
       "      <td>4.12</td>\n",
       "      <td>3,820</td>\n",
       "      <td>2.69</td>\n",
       "      <td>Null</td>\n",
       "      <td>Null</td>\n",
       "      <td>84.57</td>\n",
       "      <td>7.01</td>\n",
       "      <td>0.86</td>\n",
       "    </tr>\n",
       "    <tr>\n",
       "      <th>1</th>\n",
       "      <td>2020</td>\n",
       "      <td>21715079</td>\n",
       "      <td>0.30%</td>\n",
       "      <td>80.97</td>\n",
       "      <td>-3.62%</td>\n",
       "      <td>-5.94%</td>\n",
       "      <td>3,694</td>\n",
       "      <td>-4.01</td>\n",
       "      <td>81.45</td>\n",
       "      <td>-3.45</td>\n",
       "      <td>3,720</td>\n",
       "      <td>-7.23</td>\n",
       "      <td>Null</td>\n",
       "      <td>Null</td>\n",
       "      <td>81.45</td>\n",
       "      <td>6.15</td>\n",
       "      <td>2.63</td>\n",
       "    </tr>\n",
       "    <tr>\n",
       "      <th>2</th>\n",
       "      <td>2019</td>\n",
       "      <td>21649664</td>\n",
       "      <td>0.32%</td>\n",
       "      <td>83.90</td>\n",
       "      <td>2.33%</td>\n",
       "      <td>-0.94%</td>\n",
       "      <td>3,848</td>\n",
       "      <td>-5.20</td>\n",
       "      <td>87.46</td>\n",
       "      <td>2.14</td>\n",
       "      <td>4,010</td>\n",
       "      <td>-0.74</td>\n",
       "      <td>Null</td>\n",
       "      <td>Null</td>\n",
       "      <td>87.46</td>\n",
       "      <td>3.53</td>\n",
       "      <td>1.39</td>\n",
       "    </tr>\n",
       "    <tr>\n",
       "      <th>3</th>\n",
       "      <td>2018</td>\n",
       "      <td>21580710</td>\n",
       "      <td>0.34%</td>\n",
       "      <td>87.96</td>\n",
       "      <td>3.27%</td>\n",
       "      <td>-0.31%</td>\n",
       "      <td>4,059</td>\n",
       "      <td>-0.44</td>\n",
       "      <td>87.46</td>\n",
       "      <td>3.19</td>\n",
       "      <td>4,040</td>\n",
       "      <td>4.39</td>\n",
       "      <td>Null</td>\n",
       "      <td>Null</td>\n",
       "      <td>87.46</td>\n",
       "      <td>2.14</td>\n",
       "      <td>-5.57</td>\n",
       "    </tr>\n",
       "    <tr>\n",
       "      <th>4</th>\n",
       "      <td>2017</td>\n",
       "      <td>21506813</td>\n",
       "      <td>0.38%</td>\n",
       "      <td>87.43</td>\n",
       "      <td>3.58%</td>\n",
       "      <td>-0.91%</td>\n",
       "      <td>4,077</td>\n",
       "      <td>4.91</td>\n",
       "      <td>83.01</td>\n",
       "      <td>3.59</td>\n",
       "      <td>3,870</td>\n",
       "      <td>1.57</td>\n",
       "      <td>Null</td>\n",
       "      <td>Null</td>\n",
       "      <td>83.01</td>\n",
       "      <td>7.70</td>\n",
       "      <td>3.75</td>\n",
       "    </tr>\n",
       "  </tbody>\n",
       "</table>\n",
       "</div>"
      ],
      "text/plain": [
       "   Year Population_in_M Population growth rate  GDP_in_B  \\\n",
       "0  2021        21773441                  0.27%     84.52   \n",
       "1  2020        21715079                  0.30%     80.97   \n",
       "2  2019        21649664                  0.32%     83.90   \n",
       "3  2018        21580710                  0.34%     87.96   \n",
       "4  2017        21506813                  0.38%     87.43   \n",
       "\n",
       "  GDP growth percentage Annual change in GDP growth GDP Per Capita  \\\n",
       "0                 3.66%                       7.27%          3,815   \n",
       "1                -3.62%                      -5.94%          3,694   \n",
       "2                 2.33%                      -0.94%          3,848   \n",
       "3                 3.27%                      -0.31%          4,059   \n",
       "4                 3.58%                      -0.91%          4,077   \n",
       "\n",
       "  Annual Growth Rate in GDP Per Capita GNI_in_B GNI Growth Rate  \\\n",
       "0                                 3.27    84.57            4.12   \n",
       "1                                -4.01    81.45           -3.45   \n",
       "2                                -5.20    87.46            2.14   \n",
       "3                                -0.44    87.46            3.19   \n",
       "4                                 4.91    83.01            3.59   \n",
       "\n",
       "  GNI Per Capita GNI Per Capita Annual Growth Rate  \\\n",
       "0          3,820                              2.69   \n",
       "1          3,720                             -7.23   \n",
       "2          4,010                             -0.74   \n",
       "3          4,040                              4.39   \n",
       "4          3,870                              1.57   \n",
       "\n",
       "  Government Debt as % of GDP Annual Change in Debt to GDP Ratio GNP_in_B  \\\n",
       "0                        Null                               Null    84.57   \n",
       "1                        Null                               Null    81.45   \n",
       "2                        Null                               Null    87.46   \n",
       "3                        Null                               Null    87.46   \n",
       "4                        Null                               Null    83.01   \n",
       "\n",
       "  Inflation Rate Annual Change in Inflation Rate  \n",
       "0           7.01                            0.86  \n",
       "1           6.15                            2.63  \n",
       "2           3.53                            1.39  \n",
       "3           2.14                           -5.57  \n",
       "4           7.70                            3.75  "
      ]
     },
     "execution_count": 141,
     "metadata": {},
     "output_type": "execute_result"
    }
   ],
   "source": [
    "df1.head()"
   ]
  },
  {
   "cell_type": "code",
   "execution_count": 142,
   "id": "330025bc",
   "metadata": {},
   "outputs": [],
   "source": [
    "df1_cleaned = df1.dropna()"
   ]
  },
  {
   "cell_type": "code",
   "execution_count": null,
   "id": "e5b0dea3",
   "metadata": {},
   "outputs": [],
   "source": []
  },
  {
   "cell_type": "code",
   "execution_count": 143,
   "id": "d801ccaf",
   "metadata": {},
   "outputs": [],
   "source": [
    "df1.replace('Null', np.nan, inplace=True)"
   ]
  },
  {
   "cell_type": "code",
   "execution_count": 144,
   "id": "fe607b5f",
   "metadata": {},
   "outputs": [
    {
     "name": "stdout",
     "output_type": "stream",
     "text": [
      "    Year Population_in_M Population growth rate  GDP_in_B  \\\n",
      "6   2015        21336697                  0.46%     80.60   \n",
      "7   2014        21239457                  0.51%     79.36   \n",
      "8   2013        21131756                  0.55%     74.32   \n",
      "9   2012        21017147                  0.75%     68.43   \n",
      "10  2011        20859743                  0.93%     65.29   \n",
      "11  2010        20668557                  0.91%     56.73   \n",
      "12  2009        20482477                  0.97%     42.07   \n",
      "14  2007        20078655                  1.05%     32.35   \n",
      "15  2006        19870706                  1.00%     28.28   \n",
      "16  2005        19673866                  0.94%     24.41   \n",
      "17  2004        19490431                  0.97%     20.66   \n",
      "18  2003        19303180                  1.01%     18.88   \n",
      "19  2002        19110707                  1.01%     16.54   \n",
      "20  2001        18920275                  0.77%     15.75   \n",
      "21  2000        18776371                  0.57%     16.33   \n",
      "22  1999        18670411                  0.59%     15.66   \n",
      "23  1998        18560798                  0.61%     15.79   \n",
      "24  1997        18449123                  0.69%     15.09   \n",
      "25  1996        18322506                  0.80%     13.90   \n",
      "26  1995        18177572                  0.92%     13.03   \n",
      "27  1994        18011744                  1.04%     11.72   \n",
      "28  1993        17825611                  1.14%     10.34   \n",
      "29  1992        17624457                  1.19%      9.70   \n",
      "30  1991        17416596                  1.24%      9.00   \n",
      "31  1990        17204094                  1.26%      8.03   \n",
      "\n",
      "   GDP growth percentage Annual change in GDP growth GDP Per Capita  \\\n",
      "6                  5.01%                       0.05%          3,844   \n",
      "7                  4.96%                       1.57%          3,819   \n",
      "8                  3.40%                      -5.75%          3,610   \n",
      "9                  9.14%                       0.74%          3,351   \n",
      "10                 8.40%                       0.39%          3,201   \n",
      "11                 8.02%                       4.48%          2,800   \n",
      "12                 3.54%                      -2.41%          2,090   \n",
      "14                 6.80%                      -0.87%          1,630   \n",
      "15                 7.67%                       1.43%          1,436   \n",
      "16                 6.24%                       0.80%          1,249   \n",
      "17                 5.45%                      -0.50%          1,066   \n",
      "18                 5.94%                       1.98%            982   \n",
      "19                 3.96%                       5.51%            867   \n",
      "20                -1.55%                      -7.55%            833   \n",
      "21                 6.00%                       1.70%            870   \n",
      "22                 4.30%                      -0.40%            839   \n",
      "23                 4.70%                      -1.71%            851   \n",
      "24                 6.41%                       2.61%            817   \n",
      "25                 3.80%                      -1.70%            757   \n",
      "26                 5.50%                      -0.10%            714   \n",
      "27                 5.60%                      -1.30%            648   \n",
      "28                 6.90%                       2.50%            577   \n",
      "29                 4.40%                      -0.20%            547   \n",
      "30                 4.60%                      -1.80%            513   \n",
      "31                 6.40%                       4.10%            464   \n",
      "\n",
      "   Annual Growth Rate in GDP Per Capita GNI_in_B GNI Growth Rate  \\\n",
      "6                                  0.64    78.75            4.70   \n",
      "7                                  5.79    75.60            5.00   \n",
      "8                                  7.75    71.92            2.76   \n",
      "9                                  4.68    68.56            8.30   \n",
      "10                                14.33    58.05            8.53   \n",
      "11                                33.93    48.80            8.06   \n",
      "12                                 2.61    40.38            4.67   \n",
      "14                                13.55    30.78            7.10   \n",
      "15                                14.99    26.81            7.52   \n",
      "16                                17.16    23.69            6.02   \n",
      "17                                 8.51    20.63            5.39   \n",
      "18                                13.22    18.06            6.55   \n",
      "19                                 4.17    16.10            4.24   \n",
      "20                                -4.24    15.69           -1.47   \n",
      "21                                 3.67    16.41            5.92   \n",
      "22                                -1.40    15.63            4.06   \n",
      "23                                 4.13    15.14            4.22   \n",
      "24                                 7.98    14.73            6.66   \n",
      "25                                 5.94    13.66            3.68   \n",
      "26                                10.29    12.64            4.85   \n",
      "27                                12.27    11.54            4.97   \n",
      "28                                 5.43    10.68            7.14   \n",
      "29                                 6.58     9.73            5.01   \n",
      "30                                10.71     8.66            4.49   \n",
      "31                                13.51     8.05            6.48   \n",
      "\n",
      "   GNI Per Capita GNI Per Capita Annual Growth Rate  \\\n",
      "6           3,760                              3.30   \n",
      "7           3,640                              4.30   \n",
      "8           3,490                              3.87   \n",
      "9           3,360                             17.89   \n",
      "10          2,850                             18.26   \n",
      "11          2,410                             19.90   \n",
      "12          2,010                             12.29   \n",
      "14          1,550                             13.97   \n",
      "15          1,360                             12.40   \n",
      "16          1,210                             14.15   \n",
      "17          1,060                             12.77   \n",
      "18            940                             11.90   \n",
      "19            840                              1.20   \n",
      "20            830                             -4.60   \n",
      "21            870                              3.57   \n",
      "22            840                              2.44   \n",
      "23            820                              2.50   \n",
      "24            800                              8.11   \n",
      "25            740                              7.25   \n",
      "26            690                              7.81   \n",
      "27            640                              6.67   \n",
      "28            600                              9.09   \n",
      "29            550                             12.24   \n",
      "30            490                              6.52   \n",
      "31            460                              4.55   \n",
      "\n",
      "   Government Debt as % of GDP Annual Change in Debt to GDP Ratio GNP_in_B  \\\n",
      "6                       77.65%                              6.32%    78.75   \n",
      "7                       71.33%                              0.51%    75.60   \n",
      "8                       70.82%                              2.11%    71.92   \n",
      "9                       68.71%                             -2.40%    68.56   \n",
      "10                      71.11%                             -0.48%    58.05   \n",
      "11                      71.59%                            -14.48%    48.80   \n",
      "12                      86.06%                              1.07%    40.38   \n",
      "14                      84.99%                             -3.71%    30.78   \n",
      "15                      88.70%                             -1.91%    26.81   \n",
      "16                      90.60%                            -11.72%    23.69   \n",
      "17                     102.33%                              0.06%    20.63   \n",
      "18                     102.27%                             -3.25%    18.06   \n",
      "19                     105.53%                              2.31%    16.10   \n",
      "20                     103.22%                              6.32%    15.69   \n",
      "21                      96.90%                              1.80%    16.41   \n",
      "22                      95.11%                              5.91%    15.63   \n",
      "23                      89.20%                              3.09%    15.14   \n",
      "24                      86.11%                             -6.24%    14.73   \n",
      "25                      92.34%                             -2.31%    13.66   \n",
      "26                      94.65%                             -0.21%    12.64   \n",
      "27                      94.86%                             -1.94%    11.54   \n",
      "28                      96.80%                              1.44%    10.68   \n",
      "29                      95.36%                             -3.12%     9.73   \n",
      "30                      98.48%                              1.90%     8.66   \n",
      "31                      96.58%                              1.90%     8.05   \n",
      "\n",
      "   Inflation Rate Annual Change in Inflation Rate  \n",
      "6            3.77                            0.59  \n",
      "7            3.18                           -3.73  \n",
      "8            6.91                           -0.63  \n",
      "9            7.54                            0.83  \n",
      "10           6.72                            0.50  \n",
      "11           6.22                            2.75  \n",
      "12           3.47                          -19.10  \n",
      "14          15.84                            5.82  \n",
      "15          10.02                           -1.62  \n",
      "16          11.64                            4.06  \n",
      "17           7.58                            1.26  \n",
      "18           6.31                           -3.24  \n",
      "19           9.55                           -4.61  \n",
      "20          14.16                            7.98  \n",
      "21           6.18                            1.48  \n",
      "22           4.69                           -4.67  \n",
      "23           9.36                           -0.21  \n",
      "24           9.57                           -6.36  \n",
      "25          15.94                            8.26  \n",
      "26           7.67                           -0.77  \n",
      "27           8.45                           -3.30  \n",
      "28          11.75                            0.36  \n",
      "29          11.38                           -0.80  \n",
      "30          12.19                           -9.31  \n",
      "31          21.50                            9.93  \n"
     ]
    }
   ],
   "source": [
    "#removed null values \n",
    "df1.dropna(inplace=True)\n",
    "print(df1)"
   ]
  },
  {
   "cell_type": "code",
   "execution_count": 145,
   "id": "5288b930",
   "metadata": {},
   "outputs": [
    {
     "name": "stdout",
     "output_type": "stream",
     "text": [
      "<class 'pandas.core.frame.DataFrame'>\n",
      "Index: 25 entries, 6 to 31\n",
      "Data columns (total 17 columns):\n",
      " #   Column                                Non-Null Count  Dtype  \n",
      "---  ------                                --------------  -----  \n",
      " 0   Year                                  25 non-null     int64  \n",
      " 1   Population_in_M                       25 non-null     object \n",
      " 2   Population growth rate                25 non-null     object \n",
      " 3   GDP_in_B                              25 non-null     float64\n",
      " 4   GDP growth percentage                 25 non-null     object \n",
      " 5   Annual change in GDP growth           25 non-null     object \n",
      " 6   GDP Per Capita                        25 non-null     object \n",
      " 7   Annual Growth Rate in GDP Per Capita  25 non-null     float64\n",
      " 8   GNI_in_B                              25 non-null     float64\n",
      " 9   GNI Growth Rate                       25 non-null     float64\n",
      " 10  GNI Per Capita                        25 non-null     object \n",
      " 11  GNI Per Capita Annual Growth Rate     25 non-null     float64\n",
      " 12  Government Debt as % of GDP           25 non-null     object \n",
      " 13  Annual Change in Debt to GDP Ratio    25 non-null     object \n",
      " 14  GNP_in_B                              25 non-null     float64\n",
      " 15  Inflation Rate                        25 non-null     float64\n",
      " 16  Annual Change in Inflation Rate       25 non-null     float64\n",
      "dtypes: float64(8), int64(1), object(8)\n",
      "memory usage: 3.5+ KB\n"
     ]
    }
   ],
   "source": [
    "#Change data types \n",
    "#df1['Population_in_M'] = df1['Population_in_M'].astype(int)\n",
    "df1['Annual Growth Rate in GDP Per Capita'] = df1['Annual Growth Rate in GDP Per Capita'].astype(float)\n",
    "df1['GNI_in_B'] = df1['GNI_in_B'].astype(float)\n",
    "df1['GNI Growth Rate'] = df1['GNI Growth Rate'].astype(float)\n",
    "df1['GNI Per Capita Annual Growth Rate'] = df1['GNI Per Capita Annual Growth Rate'].astype(float)\n",
    "df1['GNP_in_B'] = df1['GNP_in_B'].astype(float)\n",
    "df1['Inflation Rate'] = df1['Inflation Rate'].astype(float)\n",
    "df1['Annual Change in Inflation Rate'] = df1['Annual Change in Inflation Rate'].astype(float)\n",
    "df1.info()"
   ]
  },
  {
   "cell_type": "code",
   "execution_count": 146,
   "id": "ba3fa20e",
   "metadata": {},
   "outputs": [
    {
     "data": {
      "text/html": [
       "<div>\n",
       "<style scoped>\n",
       "    .dataframe tbody tr th:only-of-type {\n",
       "        vertical-align: middle;\n",
       "    }\n",
       "\n",
       "    .dataframe tbody tr th {\n",
       "        vertical-align: top;\n",
       "    }\n",
       "\n",
       "    .dataframe thead th {\n",
       "        text-align: right;\n",
       "    }\n",
       "</style>\n",
       "<table border=\"1\" class=\"dataframe\">\n",
       "  <thead>\n",
       "    <tr style=\"text-align: right;\">\n",
       "      <th></th>\n",
       "      <th>Year</th>\n",
       "      <th>Population_in_M</th>\n",
       "      <th>Population growth rate</th>\n",
       "      <th>GDP_in_B</th>\n",
       "      <th>GDP growth percentage</th>\n",
       "      <th>Annual change in GDP growth</th>\n",
       "      <th>GDP Per Capita</th>\n",
       "      <th>Annual Growth Rate in GDP Per Capita</th>\n",
       "      <th>GNI_in_B</th>\n",
       "      <th>GNI Growth Rate</th>\n",
       "      <th>GNI Per Capita</th>\n",
       "      <th>GNI Per Capita Annual Growth Rate</th>\n",
       "      <th>Government Debt as % of GDP</th>\n",
       "      <th>Annual Change in Debt to GDP Ratio</th>\n",
       "      <th>GNP_in_B</th>\n",
       "      <th>Inflation Rate</th>\n",
       "      <th>Annual Change in Inflation Rate</th>\n",
       "    </tr>\n",
       "  </thead>\n",
       "  <tbody>\n",
       "    <tr>\n",
       "      <th>6</th>\n",
       "      <td>2015</td>\n",
       "      <td>21336697</td>\n",
       "      <td>0.46</td>\n",
       "      <td>80.60</td>\n",
       "      <td>5.01</td>\n",
       "      <td>0.05</td>\n",
       "      <td>3844</td>\n",
       "      <td>0.64</td>\n",
       "      <td>78.75</td>\n",
       "      <td>4.70</td>\n",
       "      <td>3760</td>\n",
       "      <td>3.30</td>\n",
       "      <td>77.65</td>\n",
       "      <td>6.32</td>\n",
       "      <td>78.75</td>\n",
       "      <td>3.77</td>\n",
       "      <td>0.59</td>\n",
       "    </tr>\n",
       "    <tr>\n",
       "      <th>7</th>\n",
       "      <td>2014</td>\n",
       "      <td>21239457</td>\n",
       "      <td>0.51</td>\n",
       "      <td>79.36</td>\n",
       "      <td>4.96</td>\n",
       "      <td>1.57</td>\n",
       "      <td>3819</td>\n",
       "      <td>5.79</td>\n",
       "      <td>75.60</td>\n",
       "      <td>5.00</td>\n",
       "      <td>3640</td>\n",
       "      <td>4.30</td>\n",
       "      <td>71.33</td>\n",
       "      <td>0.51</td>\n",
       "      <td>75.60</td>\n",
       "      <td>3.18</td>\n",
       "      <td>-3.73</td>\n",
       "    </tr>\n",
       "    <tr>\n",
       "      <th>8</th>\n",
       "      <td>2013</td>\n",
       "      <td>21131756</td>\n",
       "      <td>0.55</td>\n",
       "      <td>74.32</td>\n",
       "      <td>3.40</td>\n",
       "      <td>-5.75</td>\n",
       "      <td>3610</td>\n",
       "      <td>7.75</td>\n",
       "      <td>71.92</td>\n",
       "      <td>2.76</td>\n",
       "      <td>3490</td>\n",
       "      <td>3.87</td>\n",
       "      <td>70.82</td>\n",
       "      <td>2.11</td>\n",
       "      <td>71.92</td>\n",
       "      <td>6.91</td>\n",
       "      <td>-0.63</td>\n",
       "    </tr>\n",
       "    <tr>\n",
       "      <th>9</th>\n",
       "      <td>2012</td>\n",
       "      <td>21017147</td>\n",
       "      <td>0.75</td>\n",
       "      <td>68.43</td>\n",
       "      <td>9.14</td>\n",
       "      <td>0.74</td>\n",
       "      <td>3351</td>\n",
       "      <td>4.68</td>\n",
       "      <td>68.56</td>\n",
       "      <td>8.30</td>\n",
       "      <td>3360</td>\n",
       "      <td>17.89</td>\n",
       "      <td>68.71</td>\n",
       "      <td>-2.40</td>\n",
       "      <td>68.56</td>\n",
       "      <td>7.54</td>\n",
       "      <td>0.83</td>\n",
       "    </tr>\n",
       "    <tr>\n",
       "      <th>10</th>\n",
       "      <td>2011</td>\n",
       "      <td>20859743</td>\n",
       "      <td>0.93</td>\n",
       "      <td>65.29</td>\n",
       "      <td>8.40</td>\n",
       "      <td>0.39</td>\n",
       "      <td>3201</td>\n",
       "      <td>14.33</td>\n",
       "      <td>58.05</td>\n",
       "      <td>8.53</td>\n",
       "      <td>2850</td>\n",
       "      <td>18.26</td>\n",
       "      <td>71.11</td>\n",
       "      <td>-0.48</td>\n",
       "      <td>58.05</td>\n",
       "      <td>6.72</td>\n",
       "      <td>0.50</td>\n",
       "    </tr>\n",
       "  </tbody>\n",
       "</table>\n",
       "</div>"
      ],
      "text/plain": [
       "    Year Population_in_M Population growth rate  GDP_in_B  \\\n",
       "6   2015        21336697                   0.46     80.60   \n",
       "7   2014        21239457                   0.51     79.36   \n",
       "8   2013        21131756                   0.55     74.32   \n",
       "9   2012        21017147                   0.75     68.43   \n",
       "10  2011        20859743                   0.93     65.29   \n",
       "\n",
       "   GDP growth percentage Annual change in GDP growth GDP Per Capita  \\\n",
       "6                   5.01                        0.05           3844   \n",
       "7                   4.96                        1.57           3819   \n",
       "8                   3.40                       -5.75           3610   \n",
       "9                   9.14                        0.74           3351   \n",
       "10                  8.40                        0.39           3201   \n",
       "\n",
       "    Annual Growth Rate in GDP Per Capita  GNI_in_B  GNI Growth Rate  \\\n",
       "6                                   0.64     78.75             4.70   \n",
       "7                                   5.79     75.60             5.00   \n",
       "8                                   7.75     71.92             2.76   \n",
       "9                                   4.68     68.56             8.30   \n",
       "10                                 14.33     58.05             8.53   \n",
       "\n",
       "   GNI Per Capita  GNI Per Capita Annual Growth Rate  \\\n",
       "6            3760                               3.30   \n",
       "7            3640                               4.30   \n",
       "8            3490                               3.87   \n",
       "9            3360                              17.89   \n",
       "10           2850                              18.26   \n",
       "\n",
       "   Government Debt as % of GDP Annual Change in Debt to GDP Ratio  GNP_in_B  \\\n",
       "6                        77.65                               6.32     78.75   \n",
       "7                        71.33                               0.51     75.60   \n",
       "8                        70.82                               2.11     71.92   \n",
       "9                        68.71                              -2.40     68.56   \n",
       "10                       71.11                              -0.48     58.05   \n",
       "\n",
       "    Inflation Rate  Annual Change in Inflation Rate  \n",
       "6             3.77                             0.59  \n",
       "7             3.18                            -3.73  \n",
       "8             6.91                            -0.63  \n",
       "9             7.54                             0.83  \n",
       "10            6.72                             0.50  "
      ]
     },
     "execution_count": 146,
     "metadata": {},
     "output_type": "execute_result"
    }
   ],
   "source": [
    "#dremove unwanted strings and clean\n",
    "df1['Population growth rate'] = df1['Population growth rate'].str.replace('%', '') \n",
    "df1['GDP growth percentage'] = df1['GDP growth percentage'].str.replace('%', '') \n",
    "df1['Annual change in GDP growth'] = df1['Annual change in GDP growth'].str.replace('%', '') \n",
    "df1['GDP Per Capita'] = df1['GDP Per Capita'].str.replace(',', '') \n",
    "df1['GNI Per Capita'] = df1['GNI Per Capita'].str.replace(',', '') \n",
    "df1['Government Debt as % of GDP'] = df1['Government Debt as % of GDP'].str.replace('%', '') \n",
    "df1['Annual Change in Debt to GDP Ratio'] = df1['Annual Change in Debt to GDP Ratio'].str.replace('%', '') \n",
    "df1.head()"
   ]
  },
  {
   "cell_type": "code",
   "execution_count": 147,
   "id": "596c0f5d",
   "metadata": {},
   "outputs": [
    {
     "name": "stdout",
     "output_type": "stream",
     "text": [
      "<class 'pandas.core.frame.DataFrame'>\n",
      "Index: 25 entries, 6 to 31\n",
      "Data columns (total 17 columns):\n",
      " #   Column                                Non-Null Count  Dtype  \n",
      "---  ------                                --------------  -----  \n",
      " 0   Year                                  25 non-null     int64  \n",
      " 1   Population_in_M                       25 non-null     int32  \n",
      " 2   Population growth rate                25 non-null     float64\n",
      " 3   GDP_in_B                              25 non-null     float64\n",
      " 4   GDP growth percentage                 25 non-null     float64\n",
      " 5   Annual change in GDP growth           25 non-null     float64\n",
      " 6   GDP Per Capita                        25 non-null     int32  \n",
      " 7   Annual Growth Rate in GDP Per Capita  25 non-null     float64\n",
      " 8   GNI_in_B                              25 non-null     float64\n",
      " 9   GNI Growth Rate                       25 non-null     float64\n",
      " 10  GNI Per Capita                        25 non-null     int32  \n",
      " 11  GNI Per Capita Annual Growth Rate     25 non-null     float64\n",
      " 12  Government Debt as % of GDP           25 non-null     float64\n",
      " 13  Annual Change in Debt to GDP Ratio    25 non-null     float64\n",
      " 14  GNP_in_B                              25 non-null     float64\n",
      " 15  Inflation Rate                        25 non-null     float64\n",
      " 16  Annual Change in Inflation Rate       25 non-null     float64\n",
      "dtypes: float64(13), int32(3), int64(1)\n",
      "memory usage: 3.2 KB\n"
     ]
    }
   ],
   "source": [
    "#clean strings change to appropriate types\n",
    "df1['Population_in_M'] = df1['Population_in_M'].astype(int)\n",
    "df1['Population growth rate'] = df1['Population growth rate'].astype(float)\n",
    "df1['GDP growth percentage'] = df1['GDP growth percentage'].astype(float)\n",
    "df1['Annual change in GDP growth'] = df1['Annual change in GDP growth'].astype(float)\n",
    "df1['GDP Per Capita'] = df1['GDP Per Capita'].astype(int)\n",
    "df1['GNI Per Capita'] = df1['GNI Per Capita'].astype(int)\n",
    "df1['Government Debt as % of GDP'] = df1['Government Debt as % of GDP'].astype(float)\n",
    "df1['Annual Change in Debt to GDP Ratio'] = df1['Annual Change in Debt to GDP Ratio'].astype(float)\n",
    "df1.info()"
   ]
  },
  {
   "cell_type": "code",
   "execution_count": 148,
   "id": "b301ad80",
   "metadata": {},
   "outputs": [
    {
     "data": {
      "text/html": [
       "<div>\n",
       "<style scoped>\n",
       "    .dataframe tbody tr th:only-of-type {\n",
       "        vertical-align: middle;\n",
       "    }\n",
       "\n",
       "    .dataframe tbody tr th {\n",
       "        vertical-align: top;\n",
       "    }\n",
       "\n",
       "    .dataframe thead th {\n",
       "        text-align: right;\n",
       "    }\n",
       "</style>\n",
       "<table border=\"1\" class=\"dataframe\">\n",
       "  <thead>\n",
       "    <tr style=\"text-align: right;\">\n",
       "      <th></th>\n",
       "      <th>Year</th>\n",
       "      <th>GDP_in_B</th>\n",
       "      <th>GDP per Capita</th>\n",
       "      <th>Growth</th>\n",
       "    </tr>\n",
       "  </thead>\n",
       "  <tbody>\n",
       "    <tr>\n",
       "      <th>0</th>\n",
       "      <td>2021</td>\n",
       "      <td>22996.10</td>\n",
       "      <td>69288</td>\n",
       "      <td>5.67</td>\n",
       "    </tr>\n",
       "    <tr>\n",
       "      <th>1</th>\n",
       "      <td>2020</td>\n",
       "      <td>20893.74</td>\n",
       "      <td>63028</td>\n",
       "      <td>-3.40</td>\n",
       "    </tr>\n",
       "    <tr>\n",
       "      <th>2</th>\n",
       "      <td>2019</td>\n",
       "      <td>21372.57</td>\n",
       "      <td>65095</td>\n",
       "      <td>2.29</td>\n",
       "    </tr>\n",
       "    <tr>\n",
       "      <th>3</th>\n",
       "      <td>2018</td>\n",
       "      <td>20527.16</td>\n",
       "      <td>62805</td>\n",
       "      <td>2.92</td>\n",
       "    </tr>\n",
       "    <tr>\n",
       "      <th>4</th>\n",
       "      <td>2017</td>\n",
       "      <td>19479.62</td>\n",
       "      <td>59915</td>\n",
       "      <td>2.26</td>\n",
       "    </tr>\n",
       "  </tbody>\n",
       "</table>\n",
       "</div>"
      ],
      "text/plain": [
       "   Year  GDP_in_B GDP per Capita Growth\n",
       "0  2021  22996.10         69288    5.67\n",
       "1  2020  20893.74         63028   -3.40\n",
       "2  2019  21372.57         65095    2.29\n",
       "3  2018  20527.16         62805    2.92\n",
       "4  2017  19479.62         59915    2.26"
      ]
     },
     "execution_count": 148,
     "metadata": {},
     "output_type": "execute_result"
    }
   ],
   "source": [
    "#clean stings removing unwanted parts from second data set (usa econommics)\n",
    "df2.rename(columns={'GDP': 'GDP_in_B'}, inplace=True)\n",
    "df2['GDP_in_B'] = df2['GDP_in_B'].str.replace('B', '') \n",
    "df2['GDP_in_B'] = df2['GDP_in_B'].str.replace('$', '') \n",
    "df2['GDP_in_B'] = df2['GDP_in_B'].str.replace(',', '') \n",
    "df2['GDP_in_B'] = df2['GDP_in_B'].str.replace('$', '') \n",
    "df2['GDP per Capita'] = df2['GDP per Capita'].str.replace('$', '') \n",
    "df2['GDP per Capita'] = df2['GDP per Capita'].str.replace(',', '') \n",
    "df2['Growth'] = df2['Growth'].str.replace('%', '') \n",
    "df2.head()"
   ]
  },
  {
   "cell_type": "code",
   "execution_count": 149,
   "id": "5b46d6e7",
   "metadata": {},
   "outputs": [
    {
     "name": "stdout",
     "output_type": "stream",
     "text": [
      "<class 'pandas.core.frame.DataFrame'>\n",
      "Index: 61 entries, 0 to 60\n",
      "Data columns (total 4 columns):\n",
      " #   Column          Non-Null Count  Dtype  \n",
      "---  ------          --------------  -----  \n",
      " 0   Year            61 non-null     int32  \n",
      " 1   GDP_in_B        61 non-null     float64\n",
      " 2   GDP per Capita  61 non-null     int32  \n",
      " 3   Growth          61 non-null     float64\n",
      "dtypes: float64(2), int32(2)\n",
      "memory usage: 1.9 KB\n"
     ]
    }
   ],
   "source": [
    "#convert second dataset to appropriate types \n",
    "df2['GDP_in_B'] = df2['GDP_in_B'].astype(float)\n",
    "df2['GDP per Capita'] = df2['GDP per Capita'].astype(int)\n",
    "df2['Growth'] = df2['Growth'].astype(float)\n",
    "df2.info()"
   ]
  },
  {
   "cell_type": "code",
   "execution_count": 150,
   "id": "0efc5de5",
   "metadata": {},
   "outputs": [
    {
     "data": {
      "image/png": "[encoded data removed]",
      "text/plain": [
       "<Figure size 1000x600 with 1 Axes>"
      ]
     },
     "metadata": {},
     "output_type": "display_data"
    }
   ],
   "source": [
    "\n",
    "\n",
    "\n",
    "\n",
    "\n",
    "df1.sort_values(by='Year', inplace=True)\n",
    "\n",
    "# Plot GDP over time\n",
    "plt.figure(figsize=(10, 6))\n",
    "plt.plot(df1['Year'], df1['GDP_in_B'], marker='o', linestyle='-')\n",
    "#plt.plot(df2['Year'], df2['GDP_in_B'], marker='o', linestyle='-')\n",
    "plt.title('GDP in Sri Lanka')\n",
    "plt.xlabel('Year')\n",
    "plt.ylabel('GDP in Billion')\n",
    "plt.grid(True)\n",
    "plt.xticks(rotation=45)  # Rotate x-axis labels for better readability\n",
    "plt.tight_layout()\n",
    "plt.show()\n"
   ]
  },
  {
   "cell_type": "code",
   "execution_count": 151,
   "id": "d8e2b925",
   "metadata": {},
   "outputs": [
    {
     "name": "stdout",
     "output_type": "stream",
     "text": [
      "Turning points for GDP:\n",
      "Year: 1991, GDP: 9.0\n",
      "Year: 1992, GDP: 9.7\n",
      "Year: 1993, GDP: 10.34\n",
      "Year: 1994, GDP: 11.72\n",
      "Year: 1995, GDP: 13.03\n",
      "Year: 1996, GDP: 13.9\n",
      "Year: 1997, GDP: 15.09\n",
      "Year: 1998, GDP: 15.79\n",
      "Year: 1999, GDP: 15.66\n",
      "Year: 2000, GDP: 16.33\n",
      "Year: 2001, GDP: 15.75\n",
      "Year: 2002, GDP: 16.54\n",
      "Year: 2003, GDP: 18.88\n",
      "Year: 2004, GDP: 20.66\n",
      "Year: 2005, GDP: 24.41\n",
      "Year: 2006, GDP: 28.28\n",
      "Year: 2007, GDP: 32.35\n",
      "Year: 2009, GDP: 42.07\n",
      "Year: 2010, GDP: 56.73\n",
      "Year: 2011, GDP: 65.29\n",
      "Year: 2012, GDP: 68.43\n",
      "Year: 2013, GDP: 74.32\n",
      "Year: 2014, GDP: 79.36\n"
     ]
    }
   ],
   "source": [
    "\n",
    "# Find turning points for above chart\n",
    "turning_points = []\n",
    "for i in range(1, len(df1) - 1):\n",
    "    if df1['GDP_in_B'].iloc[i] > df1['GDP_in_B'].iloc[i - 1] and df1['GDP_in_B'].iloc[i] > df1['GDP_in_B'].iloc[i + 1]:\n",
    "        turning_points.append((df1['Year'].iloc[i], df1['GDP_in_B'].iloc[i]))\n",
    "    elif df1['GDP_in_B'].iloc[i] < df2['GDP_in_B'].iloc[i - 1] and df1['GDP_in_B'].iloc[i] < df1['GDP_in_B'].iloc[i + 1]:\n",
    "        turning_points.append((df1['Year'].iloc[i], df1['GDP_in_B'].iloc[i]))\n",
    "\n",
    "# Print turning points\n",
    "print(\"Turning points for GDP:\")\n",
    "for year, gdp in turning_points:\n",
    "    print(f\"Year: {year}, GDP: {gdp}\")\n",
    "#here we can see      \n"
   ]
  },
  {
   "cell_type": "code",
   "execution_count": 152,
   "id": "bb03c732",
   "metadata": {},
   "outputs": [
    {
     "data": {
      "image/png": "[encoded data removed]",
      "text/plain": [
       "<Figure size 1000x600 with 1 Axes>"
      ]
     },
     "metadata": {},
     "output_type": "display_data"
    }
   ],
   "source": [
    "df2.sort_values(by='Year', inplace=True)\n",
    "\n",
    "# Plot GDP over time\n",
    "plt.figure(figsize=(10, 6))\n",
    "plt.plot(df2['Year'], df2['GDP_in_B'], marker='o', linestyle='-')\n",
    "plt.title('GDP in USA')\n",
    "plt.xlabel('Year')\n",
    "plt.ylabel('GDP in Billion')\n",
    "plt.grid(True)\n",
    "plt.xticks(rotation=45)  # Rotate x-axis labels for better readability\n",
    "plt.tight_layout()\n",
    "plt.show()\n"
   ]
  },
  {
   "cell_type": "code",
   "execution_count": 153,
   "id": "27f6f698",
   "metadata": {},
   "outputs": [
    {
     "name": "stdout",
     "output_type": "stream",
     "text": [
      "Turning points for GDP:\n",
      "Year: 2008, GDP: 14769.86\n",
      "Year: 2009, GDP: 14478.06\n",
      "Year: 2019, GDP: 21372.57\n",
      "Year: 2020, GDP: 20893.74\n"
     ]
    }
   ],
   "source": [
    "import pandas as pd\n",
    "\n",
    "\n",
    "\n",
    "# Find turning points\n",
    "turning_points = []\n",
    "for i in range(1, len(df2) - 1):\n",
    "    if df2['GDP_in_B'].iloc[i] > df2['GDP_in_B'].iloc[i - 1] and df2['GDP_in_B'].iloc[i] > df2['GDP_in_B'].iloc[i + 1]:\n",
    "        turning_points.append((df2['Year'].iloc[i], df2['GDP_in_B'].iloc[i]))\n",
    "    elif df2['GDP_in_B'].iloc[i] < df2['GDP_in_B'].iloc[i - 1] and df2['GDP_in_B'].iloc[i] < df2['GDP_in_B'].iloc[i + 1]:\n",
    "        turning_points.append((df2['Year'].iloc[i], df2['GDP_in_B'].iloc[i]))\n",
    "\n",
    "# Print turning points\n",
    "print(\"Turning points for GDP:\")\n",
    "for year, gdp in turning_points:\n",
    "    print(f\"Year: {year}, GDP: {gdp}\")\n",
    "#here we can see in 2008 there exist local maximum and 2009 in locl minimum. and also there exist considerable local minimum in 2020.     \n"
   ]
  },
  {
   "cell_type": "code",
   "execution_count": 154,
   "id": "be8f54db",
   "metadata": {},
   "outputs": [
    {
     "data": {
      "image/png": "[encoded data removed]",
      "text/plain": [
       "<Figure size 1000x600 with 1 Axes>"
      ]
     },
     "metadata": {},
     "output_type": "display_data"
    }
   ],
   "source": [
    "#Absolute amounts comparisson USA vs Sri Lanka \n",
    "df1.sort_values(by='Year', inplace=True)\n",
    "df2.sort_values(by='Year', inplace=True)\n",
    "df2_filtered = df2[(df2['Year'] >= 1990) & (df2['Year'] <= 2015)]\n",
    "# Plot GDP over time\n",
    "plt.figure(figsize=(10, 6))\n",
    "plt.plot(df1['Year'], df1['GDP_in_B'], marker='o', linestyle='-',label='Sri Lanka')\n",
    "plt.plot(df2_filtered['Year'], df2_filtered['GDP_in_B'], marker='o', linestyle='-',label='USA')\n",
    "plt.title('GDP in Sri Lanka vs USA')\n",
    "plt.xlabel('Year')\n",
    "plt.ylabel('GDP in Billion')\n",
    "plt.grid(True)\n",
    "plt.xticks(rotation=45)  # Rotate x-axis labels for better readability\n",
    "plt.tight_layout()\n",
    "plt.legend()\n",
    "plt.show()\n"
   ]
  },
  {
   "cell_type": "code",
   "execution_count": 155,
   "id": "84be46f7",
   "metadata": {},
   "outputs": [
    {
     "data": {
      "image/png": "[encoded data removed]",
      "text/plain": [
       "<Figure size 1000x600 with 1 Axes>"
      ]
     },
     "metadata": {},
     "output_type": "display_data"
    }
   ],
   "source": [
    "from sklearn.preprocessing import MinMaxScaler\n",
    "\n",
    "df1.sort_values(by='Year', inplace=True)\n",
    "df2.sort_values(by='Year', inplace=True)\n",
    "\n",
    "# Filter df2 for years between 1990 and 2015\n",
    "df2_filtered = df2[(df2['Year'] >= 1990) & (df2['Year'] <= 2015)]\n",
    "\n",
    "# Scale the values of df1\n",
    "scaler = MinMaxScaler()\n",
    "df1_scaled = scaler.fit_transform(df1[['GDP_in_B']])\n",
    "\n",
    "# Plot GDP over time\n",
    "plt.figure(figsize=(10, 6))\n",
    "plt.plot(df1['Year'], df1_scaled * (df2_filtered['GDP_in_B'].max() - df2_filtered['GDP_in_B'].min()) + df2_filtered['GDP_in_B'].min(), marker='o', linestyle='-', label='USA (Scaled)')\n",
    "plt.plot(df2_filtered['Year'], df2_filtered['GDP_in_B'], marker='o', linestyle='-', label='Sri Lanka')\n",
    "plt.title('Relative Economic Growth : USA vs Sri Lanka  (1990-2015)')\n",
    "plt.xlabel('Year')\n",
    "plt.ylabel('GDP')\n",
    "plt.grid(True)\n",
    "plt.yticks([])  # Remove y values\n",
    "plt.legend()  # Show legend\n",
    "plt.tight_layout()\n",
    "plt.show()\n"
   ]
  },
  {
   "cell_type": "code",
   "execution_count": 156,
   "id": "0ac22aa7",
   "metadata": {},
   "outputs": [
    {
     "data": {
      "image/png": "[encoded data removed]",
      "text/plain": [
       "<Figure size 640x480 with 2 Axes>"
      ]
     },
     "metadata": {},
     "output_type": "display_data"
    }
   ],
   "source": [
    "x = df1['GDP_in_B']\n",
    "y = df1['GDP Per Capita']\n",
    "sizes = df1['GDP_in_B']  # Optional: Size of markers based on another variable\n",
    "colors =df1['GDP_in_B'] # Optional: Color of markers based on another variable\n",
    "\n",
    "# Scatter plot with customizations\n",
    "plt.scatter(x, y, s=sizes, c=colors, alpha=0.7, cmap='viridis', marker='o')\n",
    "\n",
    "# Add colorbar (if using color based on another variable)\n",
    "plt.colorbar(label='Color Variable')\n",
    "\n",
    "# Add labels and title\n",
    "plt.xlabel('GDP in Billion $')\n",
    "plt.ylabel('GDP per Capita $')\n",
    "plt.title('GDP and GDP per Capita changing in Sri Lanka')\n",
    "\n",
    "# Add annotations or other customizations as needed\n",
    "\n",
    "# Show plot\n",
    "plt.grid(True)\n",
    "plt.show()\n",
    "\n"
   ]
  },
  {
   "cell_type": "code",
   "execution_count": 157,
   "id": "58f103a6",
   "metadata": {},
   "outputs": [
    {
     "data": {
      "image/png": "[encoded data removed]",
      "text/plain": [
       "<Figure size 1000x600 with 1 Axes>"
      ]
     },
     "metadata": {},
     "output_type": "display_data"
    }
   ],
   "source": [
    "import matplotlib.pyplot as plt\n",
    "import seaborn as sns\n",
    "\n",
    "# Use the default Seaborn style\n",
    "sns.set_theme()\n",
    "\n",
    "# Plotting the population data\n",
    "plt.figure(figsize=(10, 6))\n",
    "sns.lineplot(data=df1, x='Year', y='Population_in_M', marker='o', color='blue')\n",
    "plt.title('Population Growth Over Years in Sri Lanka')\n",
    "plt.xlabel('Year')\n",
    "plt.ylabel('Population (in Millions)')\n",
    "plt.grid(True)\n",
    "plt.show()\n"
   ]
  },
  {
   "cell_type": "code",
   "execution_count": 158,
   "id": "b5d72de9",
   "metadata": {},
   "outputs": [
    {
     "data": {
      "image/png": "[encoded data removed]",
      "text/plain": [
       "<Figure size 1000x600 with 1 Axes>"
      ]
     },
     "metadata": {},
     "output_type": "display_data"
    }
   ],
   "source": [
    "import matplotlib.pyplot as plt\n",
    "import seaborn as sns\n",
    "\n",
    "# Use the default Seaborn style\n",
    "sns.set_theme()\n",
    "\n",
    "# Plotting the population data\n",
    "plt.figure(figsize=(10, 6))\n",
    "sns.lineplot(data=df1, x='Year', y='GDP_in_B', marker='o', color='blue')\n",
    "sns.lineplot(data=df1, x='Year', y='GNI_in_B', marker='o', color='yellow')\n",
    "sns.lineplot(data=df1, x='Year', y='GNP_in_B', marker='o', color='red')\n",
    "plt.title('GDP GNI GNP change in Sri Lanka')\n",
    "plt.xlabel('Year')\n",
    "plt.ylabel('Billions')\n",
    "plt.grid(True)\n",
    "plt.show()\n"
   ]
  },
  {
   "cell_type": "code",
   "execution_count": 159,
   "id": "a5d2246f",
   "metadata": {},
   "outputs": [
    {
     "data": {
      "image/png": "[encoded data removed]",
      "text/plain": [
       "<Figure size 1000x600 with 1 Axes>"
      ]
     },
     "metadata": {},
     "output_type": "display_data"
    }
   ],
   "source": [
    "\n",
    "import seaborn as sns\n",
    "\n",
    "# Use the default Seaborn style\n",
    "sns.set_theme()\n",
    "\n",
    "# Plotting the population data\n",
    "plt.figure(figsize=(10, 6))\n",
    "sns.lineplot(data=df1, x='Year', y='Annual Change in Debt to GDP Ratio', marker='o', color='blue',label='GDP Ratio')\n",
    "sns.lineplot(data=df1, x='Year', y='Annual Change in Inflation Rate', marker='o', color='orange',label='Inflation Rate')\n",
    "sns.lineplot(data=df1, x='Year', y='Annual change in GDP growth', marker='o', color='red',label='GDP growth')\n",
    "plt.legend(['Annual Change in Debt to GDP Ratio', 'Annual Change in Inflation Rate', 'Annual change in GDP growth'])\n",
    "\n",
    "plt.title('Annual Changes according to year')\n",
    "plt.xlabel('Year')\n",
    "plt.ylabel('scale')\n",
    "plt.grid(True)\n",
    "plt.legend()\n",
    "plt.show()\n"
   ]
  },
  {
   "cell_type": "code",
   "execution_count": 160,
   "id": "f183d705",
   "metadata": {},
   "outputs": [
    {
     "data": {
      "application/vnd.plotly.v1+json": {
       "config": {
        "plotlyServerURL": "https://plot.ly"
       },
       "data": [
        {
         "marker": {
          "color": "blue",
          "opacity": 0.7,
          "size": 5
         },
         "mode": "markers",
         "type": "scatter3d",
         "x": [
          8.03,
          9,
          9.7,
          10.34,
          11.72,
          13.03,
          13.9,
          15.09,
          15.79,
          15.66,
          16.33,
          15.75,
          16.54,
          18.88,
          20.66,
          24.41,
          28.28,
          32.35,
          42.07,
          56.73,
          65.29,
          68.43,
          74.32,
          79.36,
          80.6
         ],
         "y": [
          8.05,
          8.66,
          9.73,
          10.68,
          11.54,
          12.64,
          13.66,
          14.73,
          15.14,
          15.63,
          16.41,
          15.69,
          16.1,
          18.06,
          20.63,
          23.69,
          26.81,
          30.78,
          40.38,
          48.8,
          58.05,
          68.56,
          71.92,
          75.6,
          78.75
         ],
         "z": [
          8.05,
          8.66,
          9.73,
          10.68,
          11.54,
          12.64,
          13.66,
          14.73,
          15.14,
          15.63,
          16.41,
          15.69,
          16.1,
          18.06,
          20.63,
          23.69,
          26.81,
          30.78,
          40.38,
          48.8,
          58.05,
          68.56,
          71.92,
          75.6,
          78.75
         ]
        }
       ],
       "layout": {
        "margin": {
         "b": 10,
         "l": 10,
         "r": 20,
         "t": 10
        },
        "scene": {
         "xaxis": {
          "title": {
           "text": "GDP in billion"
          }
         },
         "yaxis": {
          "title": {
           "text": "GNP in billion"
          }
         },
         "zaxis": {
          "title": {
           "text": "GNI in billion"
          }
         }
        },
        "template": {
         "data": {
          "bar": [
           {
            "error_x": {
             "color": "#2a3f5f"
            },
            "error_y": {
             "color": "#2a3f5f"
            },
            "marker": {
             "line": {
              "color": "#E5ECF6",
              "width": 0.5
             },
             "pattern": {
              "fillmode": "overlay",
              "size": 10,
              "solidity": 0.2
             }
            },
            "type": "bar"
           }
          ],
          "barpolar": [
           {
            "marker": {
             "line": {
              "color": "#E5ECF6",
              "width": 0.5
             },
             "pattern": {
              "fillmode": "overlay",
              "size": 10,
              "solidity": 0.2
             }
            },
            "type": "barpolar"
           }
          ],
          "carpet": [
           {
            "aaxis": {
             "endlinecolor": "#2a3f5f",
             "gridcolor": "white",
             "linecolor": "white",
             "minorgridcolor": "white",
             "startlinecolor": "#2a3f5f"
            },
            "baxis": {
             "endlinecolor": "#2a3f5f",
             "gridcolor": "white",
             "linecolor": "white",
             "minorgridcolor": "white",
             "startlinecolor": "#2a3f5f"
            },
            "type": "carpet"
           }
          ],
          "choropleth": [
           {
            "colorbar": {
             "outlinewidth": 0,
             "ticks": ""
            },
            "type": "choropleth"
           }
          ],
          "contour": [
           {
            "colorbar": {
             "outlinewidth": 0,
             "ticks": ""
            },
            "colorscale": [
             [
              0,
              "#0d0887"
             ],
             [
              0.1111111111111111,
              "#46039f"
             ],
             [
              0.2222222222222222,
              "#7201a8"
             ],
             [
              0.3333333333333333,
              "#9c179e"
             ],
             [
              0.4444444444444444,
              "#bd3786"
             ],
             [
              0.5555555555555556,
              "#d8576b"
             ],
             [
              0.6666666666666666,
              "#ed7953"
             ],
             [
              0.7777777777777778,
              "#fb9f3a"
             ],
             [
              0.8888888888888888,
              "#fdca26"
             ],
             [
              1,
              "#f0f921"
             ]
            ],
            "type": "contour"
           }
          ],
          "contourcarpet": [
           {
            "colorbar": {
             "outlinewidth": 0,
             "ticks": ""
            },
            "type": "contourcarpet"
           }
          ],
          "heatmap": [
           {
            "colorbar": {
             "outlinewidth": 0,
             "ticks": ""
            },
            "colorscale": [
             [
              0,
              "#0d0887"
             ],
             [
              0.1111111111111111,
              "#46039f"
             ],
             [
              0.2222222222222222,
              "#7201a8"
             ],
             [
              0.3333333333333333,
              "#9c179e"
             ],
             [
              0.4444444444444444,
              "#bd3786"
             ],
             [
              0.5555555555555556,
              "#d8576b"
             ],
             [
              0.6666666666666666,
              "#ed7953"
             ],
             [
              0.7777777777777778,
              "#fb9f3a"
             ],
             [
              0.8888888888888888,
              "#fdca26"
             ],
             [
              1,
              "#f0f921"
             ]
            ],
            "type": "heatmap"
           }
          ],
          "heatmapgl": [
           {
            "colorbar": {
             "outlinewidth": 0,
             "ticks": ""
            },
            "colorscale": [
             [
              0,
              "#0d0887"
             ],
             [
              0.1111111111111111,
              "#46039f"
             ],
             [
              0.2222222222222222,
              "#7201a8"
             ],
             [
              0.3333333333333333,
              "#9c179e"
             ],
             [
              0.4444444444444444,
              "#bd3786"
             ],
             [
              0.5555555555555556,
              "#d8576b"
             ],
             [
              0.6666666666666666,
              "#ed7953"
             ],
             [
              0.7777777777777778,
              "#fb9f3a"
             ],
             [
              0.8888888888888888,
              "#fdca26"
             ],
             [
              1,
              "#f0f921"
             ]
            ],
            "type": "heatmapgl"
           }
          ],
          "histogram": [
           {
            "marker": {
             "pattern": {
              "fillmode": "overlay",
              "size": 10,
              "solidity": 0.2
             }
            },
            "type": "histogram"
           }
          ],
          "histogram2d": [
           {
            "colorbar": {
             "outlinewidth": 0,
             "ticks": ""
            },
            "colorscale": [
             [
              0,
              "#0d0887"
             ],
             [
              0.1111111111111111,
              "#46039f"
             ],
             [
              0.2222222222222222,
              "#7201a8"
             ],
             [
              0.3333333333333333,
              "#9c179e"
             ],
             [
              0.4444444444444444,
              "#bd3786"
             ],
             [
              0.5555555555555556,
              "#d8576b"
             ],
             [
              0.6666666666666666,
              "#ed7953"
             ],
             [
              0.7777777777777778,
              "#fb9f3a"
             ],
             [
              0.8888888888888888,
              "#fdca26"
             ],
             [
              1,
              "#f0f921"
             ]
            ],
            "type": "histogram2d"
           }
          ],
          "histogram2dcontour": [
           {
            "colorbar": {
             "outlinewidth": 0,
             "ticks": ""
            },
            "colorscale": [
             [
              0,
              "#0d0887"
             ],
             [
              0.1111111111111111,
              "#46039f"
             ],
             [
              0.2222222222222222,
              "#7201a8"
             ],
             [
              0.3333333333333333,
              "#9c179e"
             ],
             [
              0.4444444444444444,
              "#bd3786"
             ],
             [
              0.5555555555555556,
              "#d8576b"
             ],
             [
              0.6666666666666666,
              "#ed7953"
             ],
             [
              0.7777777777777778,
              "#fb9f3a"
             ],
             [
              0.8888888888888888,
              "#fdca26"
             ],
             [
              1,
              "#f0f921"
             ]
            ],
            "type": "histogram2dcontour"
           }
          ],
          "mesh3d": [
           {
            "colorbar": {
             "outlinewidth": 0,
             "ticks": ""
            },
            "type": "mesh3d"
           }
          ],
          "parcoords": [
           {
            "line": {
             "colorbar": {
              "outlinewidth": 0,
              "ticks": ""
             }
            },
            "type": "parcoords"
           }
          ],
          "pie": [
           {
            "automargin": true,
            "type": "pie"
           }
          ],
          "scatter": [
           {
            "fillpattern": {
             "fillmode": "overlay",
             "size": 10,
             "solidity": 0.2
            },
            "type": "scatter"
           }
          ],
          "scatter3d": [
           {
            "line": {
             "colorbar": {
              "outlinewidth": 0,
              "ticks": ""
             }
            },
            "marker": {
             "colorbar": {
              "outlinewidth": 0,
              "ticks": ""
             }
            },
            "type": "scatter3d"
           }
          ],
          "scattercarpet": [
           {
            "marker": {
             "colorbar": {
              "outlinewidth": 0,
              "ticks": ""
             }
            },
            "type": "scattercarpet"
           }
          ],
          "scattergeo": [
           {
            "marker": {
             "colorbar": {
              "outlinewidth": 0,
              "ticks": ""
             }
            },
            "type": "scattergeo"
           }
          ],
          "scattergl": [
           {
            "marker": {
             "colorbar": {
              "outlinewidth": 0,
              "ticks": ""
             }
            },
            "type": "scattergl"
           }
          ],
          "scattermapbox": [
           {
            "marker": {
             "colorbar": {
              "outlinewidth": 0,
              "ticks": ""
             }
            },
            "type": "scattermapbox"
           }
          ],
          "scatterpolar": [
           {
            "marker": {
             "colorbar": {
              "outlinewidth": 0,
              "ticks": ""
             }
            },
            "type": "scatterpolar"
           }
          ],
          "scatterpolargl": [
           {
            "marker": {
             "colorbar": {
              "outlinewidth": 0,
              "ticks": ""
             }
            },
            "type": "scatterpolargl"
           }
          ],
          "scatterternary": [
           {
            "marker": {
             "colorbar": {
              "outlinewidth": 0,
              "ticks": ""
             }
            },
            "type": "scatterternary"
           }
          ],
          "surface": [
           {
            "colorbar": {
             "outlinewidth": 0,
             "ticks": ""
            },
            "colorscale": [
             [
              0,
              "#0d0887"
             ],
             [
              0.1111111111111111,
              "#46039f"
             ],
             [
              0.2222222222222222,
              "#7201a8"
             ],
             [
              0.3333333333333333,
              "#9c179e"
             ],
             [
              0.4444444444444444,
              "#bd3786"
             ],
             [
              0.5555555555555556,
              "#d8576b"
             ],
             [
              0.6666666666666666,
              "#ed7953"
             ],
             [
              0.7777777777777778,
              "#fb9f3a"
             ],
             [
              0.8888888888888888,
              "#fdca26"
             ],
             [
              1,
              "#f0f921"
             ]
            ],
            "type": "surface"
           }
          ],
          "table": [
           {
            "cells": {
             "fill": {
              "color": "#EBF0F8"
             },
             "line": {
              "color": "white"
             }
            },
            "header": {
             "fill": {
              "color": "#C8D4E3"
             },
             "line": {
              "color": "white"
             }
            },
            "type": "table"
           }
          ]
         },
         "layout": {
          "annotationdefaults": {
           "arrowcolor": "#2a3f5f",
           "arrowhead": 0,
           "arrowwidth": 1
          },
          "autotypenumbers": "strict",
          "coloraxis": {
           "colorbar": {
            "outlinewidth": 0,
            "ticks": ""
           }
          },
          "colorscale": {
           "diverging": [
            [
             0,
             "#8e0152"
            ],
            [
             0.1,
             "#c51b7d"
            ],
            [
             0.2,
             "#de77ae"
            ],
            [
             0.3,
             "#f1b6da"
            ],
            [
             0.4,
             "#fde0ef"
            ],
            [
             0.5,
             "#f7f7f7"
            ],
            [
             0.6,
             "#e6f5d0"
            ],
            [
             0.7,
             "#b8e186"
            ],
            [
             0.8,
             "#7fbc41"
            ],
            [
             0.9,
             "#4d9221"
            ],
            [
             1,
             "#276419"
            ]
           ],
           "sequential": [
            [
             0,
             "#0d0887"
            ],
            [
             0.1111111111111111,
             "#46039f"
            ],
            [
             0.2222222222222222,
             "#7201a8"
            ],
            [
             0.3333333333333333,
             "#9c179e"
            ],
            [
             0.4444444444444444,
             "#bd3786"
            ],
            [
             0.5555555555555556,
             "#d8576b"
            ],
            [
             0.6666666666666666,
             "#ed7953"
            ],
            [
             0.7777777777777778,
             "#fb9f3a"
            ],
            [
             0.8888888888888888,
             "#fdca26"
            ],
            [
             1,
             "#f0f921"
            ]
           ],
           "sequentialminus": [
            [
             0,
             "#0d0887"
            ],
            [
             0.1111111111111111,
             "#46039f"
            ],
            [
             0.2222222222222222,
             "#7201a8"
            ],
            [
             0.3333333333333333,
             "#9c179e"
            ],
            [
             0.4444444444444444,
             "#bd3786"
            ],
            [
             0.5555555555555556,
             "#d8576b"
            ],
            [
             0.6666666666666666,
             "#ed7953"
            ],
            [
             0.7777777777777778,
             "#fb9f3a"
            ],
            [
             0.8888888888888888,
             "#fdca26"
            ],
            [
             1,
             "#f0f921"
            ]
           ]
          },
          "colorway": [
           "#636efa",
           "#EF553B",
           "#00cc96",
           "#ab63fa",
           "#FFA15A",
           "#19d3f3",
           "#FF6692",
           "#B6E880",
           "#FF97FF",
           "#FECB52"
          ],
          "font": {
           "color": "#2a3f5f"
          },
          "geo": {
           "bgcolor": "white",
           "lakecolor": "white",
           "landcolor": "#E5ECF6",
           "showlakes": true,
           "showland": true,
           "subunitcolor": "white"
          },
          "hoverlabel": {
           "align": "left"
          },
          "hovermode": "closest",
          "mapbox": {
           "style": "light"
          },
          "paper_bgcolor": "white",
          "plot_bgcolor": "#E5ECF6",
          "polar": {
           "angularaxis": {
            "gridcolor": "white",
            "linecolor": "white",
            "ticks": ""
           },
           "bgcolor": "#E5ECF6",
           "radialaxis": {
            "gridcolor": "white",
            "linecolor": "white",
            "ticks": ""
           }
          },
          "scene": {
           "xaxis": {
            "backgroundcolor": "#E5ECF6",
            "gridcolor": "white",
            "gridwidth": 2,
            "linecolor": "white",
            "showbackground": true,
            "ticks": "",
            "zerolinecolor": "white"
           },
           "yaxis": {
            "backgroundcolor": "#E5ECF6",
            "gridcolor": "white",
            "gridwidth": 2,
            "linecolor": "white",
            "showbackground": true,
            "ticks": "",
            "zerolinecolor": "white"
           },
           "zaxis": {
            "backgroundcolor": "#E5ECF6",
            "gridcolor": "white",
            "gridwidth": 2,
            "linecolor": "white",
            "showbackground": true,
            "ticks": "",
            "zerolinecolor": "white"
           }
          },
          "shapedefaults": {
           "line": {
            "color": "#2a3f5f"
           }
          },
          "ternary": {
           "aaxis": {
            "gridcolor": "white",
            "linecolor": "white",
            "ticks": ""
           },
           "baxis": {
            "gridcolor": "white",
            "linecolor": "white",
            "ticks": ""
           },
           "bgcolor": "#E5ECF6",
           "caxis": {
            "gridcolor": "white",
            "linecolor": "white",
            "ticks": ""
           }
          },
          "title": {
           "x": 0.05
          },
          "xaxis": {
           "automargin": true,
           "gridcolor": "white",
           "linecolor": "white",
           "ticks": "",
           "title": {
            "standoff": 15
           },
           "zerolinecolor": "white",
           "zerolinewidth": 2
          },
          "yaxis": {
           "automargin": true,
           "gridcolor": "white",
           "linecolor": "white",
           "ticks": "",
           "title": {
            "standoff": 15
           },
           "zerolinecolor": "white",
           "zerolinewidth": 2
          }
         }
        },
        "title": {
         "text": "3D Scatter Plot"
        },
        "width": 700
       }
      },
      "text/html": [
       "<div>                            <div id=\"b5374b08-0f64-4863-b47e-4c780b92aef5\" class=\"plotly-graph-div\" style=\"height:525px; width:700px;\"></div>            <script type=\"text/javascript\">                require([\"plotly\"], function(Plotly) {                    window.PLOTLYENV=window.PLOTLYENV || {};                                    if (document.getElementById(\"b5374b08-0f64-4863-b47e-4c780b92aef5\")) {                    Plotly.newPlot(                        \"b5374b08-0f64-4863-b47e-4c780b92aef5\",                        [{\"marker\":{\"color\":\"blue\",\"opacity\":0.7,\"size\":5},\"mode\":\"markers\",\"x\":[8.03,9.0,9.7,10.34,11.72,13.03,13.9,15.09,15.79,15.66,16.33,15.75,16.54,18.88,20.66,24.41,28.28,32.35,42.07,56.73,65.29,68.43,74.32,79.36,80.6],\"y\":[8.05,8.66,9.73,10.68,11.54,12.64,13.66,14.73,15.14,15.63,16.41,15.69,16.1,18.06,20.63,23.69,26.81,30.78,40.38,48.8,58.05,68.56,71.92,75.6,78.75],\"z\":[8.05,8.66,9.73,10.68,11.54,12.64,13.66,14.73,15.14,15.63,16.41,15.69,16.1,18.06,20.63,23.69,26.81,30.78,40.38,48.8,58.05,68.56,71.92,75.6,78.75],\"type\":\"scatter3d\"}],                        {\"template\":{\"data\":{\"histogram2dcontour\":[{\"type\":\"histogram2dcontour\",\"colorbar\":{\"outlinewidth\":0,\"ticks\":\"\"},\"colorscale\":[[0.0,\"#0d0887\"],[0.1111111111111111,\"#46039f\"],[0.2222222222222222,\"#7201a8\"],[0.3333333333333333,\"#9c179e\"],[0.4444444444444444,\"#bd3786\"],[0.5555555555555556,\"#d8576b\"],[0.6666666666666666,\"#ed7953\"],[0.7777777777777778,\"#fb9f3a\"],[0.8888888888888888,\"#fdca26\"],[1.0,\"#f0f921\"]]}],\"choropleth\":[{\"type\":\"choropleth\",\"colorbar\":{\"outlinewidth\":0,\"ticks\":\"\"}}],\"histogram2d\":[{\"type\":\"histogram2d\",\"colorbar\":{\"outlinewidth\":0,\"ticks\":\"\"},\"colorscale\":[[0.0,\"#0d0887\"],[0.1111111111111111,\"#46039f\"],[0.2222222222222222,\"#7201a8\"],[0.3333333333333333,\"#9c179e\"],[0.4444444444444444,\"#bd3786\"],[0.5555555555555556,\"#d8576b\"],[0.6666666666666666,\"#ed7953\"],[0.7777777777777778,\"#fb9f3a\"],[0.8888888888888888,\"#fdca26\"],[1.0,\"#f0f921\"]]}],\"heatmap\":[{\"type\":\"heatmap\",\"colorbar\":{\"outlinewidth\":0,\"ticks\":\"\"},\"colorscale\":[[0.0,\"#0d0887\"],[0.1111111111111111,\"#46039f\"],[0.2222222222222222,\"#7201a8\"],[0.3333333333333333,\"#9c179e\"],[0.4444444444444444,\"#bd3786\"],[0.5555555555555556,\"#d8576b\"],[0.6666666666666666,\"#ed7953\"],[0.7777777777777778,\"#fb9f3a\"],[0.8888888888888888,\"#fdca26\"],[1.0,\"#f0f921\"]]}],\"heatmapgl\":[{\"type\":\"heatmapgl\",\"colorbar\":{\"outlinewidth\":0,\"ticks\":\"\"},\"colorscale\":[[0.0,\"#0d0887\"],[0.1111111111111111,\"#46039f\"],[0.2222222222222222,\"#7201a8\"],[0.3333333333333333,\"#9c179e\"],[0.4444444444444444,\"#bd3786\"],[0.5555555555555556,\"#d8576b\"],[0.6666666666666666,\"#ed7953\"],[0.7777777777777778,\"#fb9f3a\"],[0.8888888888888888,\"#fdca26\"],[1.0,\"#f0f921\"]]}],\"contourcarpet\":[{\"type\":\"contourcarpet\",\"colorbar\":{\"outlinewidth\":0,\"ticks\":\"\"}}],\"contour\":[{\"type\":\"contour\",\"colorbar\":{\"outlinewidth\":0,\"ticks\":\"\"},\"colorscale\":[[0.0,\"#0d0887\"],[0.1111111111111111,\"#46039f\"],[0.2222222222222222,\"#7201a8\"],[0.3333333333333333,\"#9c179e\"],[0.4444444444444444,\"#bd3786\"],[0.5555555555555556,\"#d8576b\"],[0.6666666666666666,\"#ed7953\"],[0.7777777777777778,\"#fb9f3a\"],[0.8888888888888888,\"#fdca26\"],[1.0,\"#f0f921\"]]}],\"surface\":[{\"type\":\"surface\",\"colorbar\":{\"outlinewidth\":0,\"ticks\":\"\"},\"colorscale\":[[0.0,\"#0d0887\"],[0.1111111111111111,\"#46039f\"],[0.2222222222222222,\"#7201a8\"],[0.3333333333333333,\"#9c179e\"],[0.4444444444444444,\"#bd3786\"],[0.5555555555555556,\"#d8576b\"],[0.6666666666666666,\"#ed7953\"],[0.7777777777777778,\"#fb9f3a\"],[0.8888888888888888,\"#fdca26\"],[1.0,\"#f0f921\"]]}],\"mesh3d\":[{\"type\":\"mesh3d\",\"colorbar\":{\"outlinewidth\":0,\"ticks\":\"\"}}],\"scatter\":[{\"fillpattern\":{\"fillmode\":\"overlay\",\"size\":10,\"solidity\":0.2},\"type\":\"scatter\"}],\"parcoords\":[{\"type\":\"parcoords\",\"line\":{\"colorbar\":{\"outlinewidth\":0,\"ticks\":\"\"}}}],\"scatterpolargl\":[{\"type\":\"scatterpolargl\",\"marker\":{\"colorbar\":{\"outlinewidth\":0,\"ticks\":\"\"}}}],\"bar\":[{\"error_x\":{\"color\":\"#2a3f5f\"},\"error_y\":{\"color\":\"#2a3f5f\"},\"marker\":{\"line\":{\"color\":\"#E5ECF6\",\"width\":0.5},\"pattern\":{\"fillmode\":\"overlay\",\"size\":10,\"solidity\":0.2}},\"type\":\"bar\"}],\"scattergeo\":[{\"type\":\"scattergeo\",\"marker\":{\"colorbar\":{\"outlinewidth\":0,\"ticks\":\"\"}}}],\"scatterpolar\":[{\"type\":\"scatterpolar\",\"marker\":{\"colorbar\":{\"outlinewidth\":0,\"ticks\":\"\"}}}],\"histogram\":[{\"marker\":{\"pattern\":{\"fillmode\":\"overlay\",\"size\":10,\"solidity\":0.2}},\"type\":\"histogram\"}],\"scattergl\":[{\"type\":\"scattergl\",\"marker\":{\"colorbar\":{\"outlinewidth\":0,\"ticks\":\"\"}}}],\"scatter3d\":[{\"type\":\"scatter3d\",\"line\":{\"colorbar\":{\"outlinewidth\":0,\"ticks\":\"\"}},\"marker\":{\"colorbar\":{\"outlinewidth\":0,\"ticks\":\"\"}}}],\"scattermapbox\":[{\"type\":\"scattermapbox\",\"marker\":{\"colorbar\":{\"outlinewidth\":0,\"ticks\":\"\"}}}],\"scatterternary\":[{\"type\":\"scatterternary\",\"marker\":{\"colorbar\":{\"outlinewidth\":0,\"ticks\":\"\"}}}],\"scattercarpet\":[{\"type\":\"scattercarpet\",\"marker\":{\"colorbar\":{\"outlinewidth\":0,\"ticks\":\"\"}}}],\"carpet\":[{\"aaxis\":{\"endlinecolor\":\"#2a3f5f\",\"gridcolor\":\"white\",\"linecolor\":\"white\",\"minorgridcolor\":\"white\",\"startlinecolor\":\"#2a3f5f\"},\"baxis\":{\"endlinecolor\":\"#2a3f5f\",\"gridcolor\":\"white\",\"linecolor\":\"white\",\"minorgridcolor\":\"white\",\"startlinecolor\":\"#2a3f5f\"},\"type\":\"carpet\"}],\"table\":[{\"cells\":{\"fill\":{\"color\":\"#EBF0F8\"},\"line\":{\"color\":\"white\"}},\"header\":{\"fill\":{\"color\":\"#C8D4E3\"},\"line\":{\"color\":\"white\"}},\"type\":\"table\"}],\"barpolar\":[{\"marker\":{\"line\":{\"color\":\"#E5ECF6\",\"width\":0.5},\"pattern\":{\"fillmode\":\"overlay\",\"size\":10,\"solidity\":0.2}},\"type\":\"barpolar\"}],\"pie\":[{\"automargin\":true,\"type\":\"pie\"}]},\"layout\":{\"autotypenumbers\":\"strict\",\"colorway\":[\"#636efa\",\"#EF553B\",\"#00cc96\",\"#ab63fa\",\"#FFA15A\",\"#19d3f3\",\"#FF6692\",\"#B6E880\",\"#FF97FF\",\"#FECB52\"],\"font\":{\"color\":\"#2a3f5f\"},\"hovermode\":\"closest\",\"hoverlabel\":{\"align\":\"left\"},\"paper_bgcolor\":\"white\",\"plot_bgcolor\":\"#E5ECF6\",\"polar\":{\"bgcolor\":\"#E5ECF6\",\"angularaxis\":{\"gridcolor\":\"white\",\"linecolor\":\"white\",\"ticks\":\"\"},\"radialaxis\":{\"gridcolor\":\"white\",\"linecolor\":\"white\",\"ticks\":\"\"}},\"ternary\":{\"bgcolor\":\"#E5ECF6\",\"aaxis\":{\"gridcolor\":\"white\",\"linecolor\":\"white\",\"ticks\":\"\"},\"baxis\":{\"gridcolor\":\"white\",\"linecolor\":\"white\",\"ticks\":\"\"},\"caxis\":{\"gridcolor\":\"white\",\"linecolor\":\"white\",\"ticks\":\"\"}},\"coloraxis\":{\"colorbar\":{\"outlinewidth\":0,\"ticks\":\"\"}},\"colorscale\":{\"sequential\":[[0.0,\"#0d0887\"],[0.1111111111111111,\"#46039f\"],[0.2222222222222222,\"#7201a8\"],[0.3333333333333333,\"#9c179e\"],[0.4444444444444444,\"#bd3786\"],[0.5555555555555556,\"#d8576b\"],[0.6666666666666666,\"#ed7953\"],[0.7777777777777778,\"#fb9f3a\"],[0.8888888888888888,\"#fdca26\"],[1.0,\"#f0f921\"]],\"sequentialminus\":[[0.0,\"#0d0887\"],[0.1111111111111111,\"#46039f\"],[0.2222222222222222,\"#7201a8\"],[0.3333333333333333,\"#9c179e\"],[0.4444444444444444,\"#bd3786\"],[0.5555555555555556,\"#d8576b\"],[0.6666666666666666,\"#ed7953\"],[0.7777777777777778,\"#fb9f3a\"],[0.8888888888888888,\"#fdca26\"],[1.0,\"#f0f921\"]],\"diverging\":[[0,\"#8e0152\"],[0.1,\"#c51b7d\"],[0.2,\"#de77ae\"],[0.3,\"#f1b6da\"],[0.4,\"#fde0ef\"],[0.5,\"#f7f7f7\"],[0.6,\"#e6f5d0\"],[0.7,\"#b8e186\"],[0.8,\"#7fbc41\"],[0.9,\"#4d9221\"],[1,\"#276419\"]]},\"xaxis\":{\"gridcolor\":\"white\",\"linecolor\":\"white\",\"ticks\":\"\",\"title\":{\"standoff\":15},\"zerolinecolor\":\"white\",\"automargin\":true,\"zerolinewidth\":2},\"yaxis\":{\"gridcolor\":\"white\",\"linecolor\":\"white\",\"ticks\":\"\",\"title\":{\"standoff\":15},\"zerolinecolor\":\"white\",\"automargin\":true,\"zerolinewidth\":2},\"scene\":{\"xaxis\":{\"backgroundcolor\":\"#E5ECF6\",\"gridcolor\":\"white\",\"linecolor\":\"white\",\"showbackground\":true,\"ticks\":\"\",\"zerolinecolor\":\"white\",\"gridwidth\":2},\"yaxis\":{\"backgroundcolor\":\"#E5ECF6\",\"gridcolor\":\"white\",\"linecolor\":\"white\",\"showbackground\":true,\"ticks\":\"\",\"zerolinecolor\":\"white\",\"gridwidth\":2},\"zaxis\":{\"backgroundcolor\":\"#E5ECF6\",\"gridcolor\":\"white\",\"linecolor\":\"white\",\"showbackground\":true,\"ticks\":\"\",\"zerolinecolor\":\"white\",\"gridwidth\":2}},\"shapedefaults\":{\"line\":{\"color\":\"#2a3f5f\"}},\"annotationdefaults\":{\"arrowcolor\":\"#2a3f5f\",\"arrowhead\":0,\"arrowwidth\":1},\"geo\":{\"bgcolor\":\"white\",\"landcolor\":\"#E5ECF6\",\"subunitcolor\":\"white\",\"showland\":true,\"showlakes\":true,\"lakecolor\":\"white\"},\"title\":{\"x\":0.05},\"mapbox\":{\"style\":\"light\"}}},\"margin\":{\"r\":20,\"l\":10,\"b\":10,\"t\":10},\"title\":{\"text\":\"3D Scatter Plot\"},\"scene\":{\"xaxis\":{\"title\":{\"text\":\"GDP in billion\"}},\"yaxis\":{\"title\":{\"text\":\"GNP in billion\"}},\"zaxis\":{\"title\":{\"text\":\"GNI in billion\"}}},\"width\":700},                        {\"responsive\": true}                    ).then(function(){\n",
       "                            \n",
       "var gd = document.getElementById('b5374b08-0f64-4863-b47e-4c780b92aef5');\n",
       "var x = new MutationObserver(function (mutations, observer) {{\n",
       "        var display = window.getComputedStyle(gd).display;\n",
       "        if (!display || display === 'none') {{\n",
       "            console.log([gd, 'removed!']);\n",
       "            Plotly.purge(gd);\n",
       "            observer.disconnect();\n",
       "        }}\n",
       "}});\n",
       "\n",
       "// Listen for the removal of the full notebook cells\n",
       "var notebookContainer = gd.closest('#notebook-container');\n",
       "if (notebookContainer) {{\n",
       "    x.observe(notebookContainer, {childList: true});\n",
       "}}\n",
       "\n",
       "// Listen for the clearing of the current output cell\n",
       "var outputEl = gd.closest('.output');\n",
       "if (outputEl) {{\n",
       "    x.observe(outputEl, {childList: true});\n",
       "}}\n",
       "\n",
       "                        })                };                });            </script>        </div>"
      ]
     },
     "metadata": {},
     "output_type": "display_data"
    }
   ],
   "source": [
    "import plotly.graph_objs as go\n",
    "\n",
    "# Create a scatter plot\n",
    "fig = go.Figure(data=[go.Scatter3d(\n",
    "    x=df1['GDP_in_B'],\n",
    "    y=df1['GNP_in_B'],\n",
    "    z=df1['GNI_in_B'],\n",
    "    mode='markers',\n",
    "    marker=dict(\n",
    "        size=5,\n",
    "        color='blue',             \n",
    "        opacity=0.7\n",
    "    )\n",
    ")])\n",
    "# Update layout\n",
    "fig.update_layout(\n",
    "                title='3D Scatter Plot',  # Title of the chart\n",
    "                scene=dict(\n",
    "                    xaxis_title='GDP in billion',\n",
    "                    yaxis_title='GNP in billion',\n",
    "                    zaxis_title='GNI in billion'),\n",
    "                  width=700,\n",
    "                  margin=dict(r=20, l=10,\n",
    "                              b=10, t=10))\n",
    "\n",
    "fig.show()\n",
    "\n"
   ]
  },
  {
   "cell_type": "code",
   "execution_count": 161,
   "id": "db349f86",
   "metadata": {},
   "outputs": [
    {
     "name": "stdout",
     "output_type": "stream",
     "text": [
      "F statistic: 0.02346924793854368\n",
      "P-value: 0.9768114823530919\n"
     ]
    }
   ],
   "source": [
    "import pandas as pd\n",
    "from scipy.stats import f_oneway\n",
    "\n",
    "\n",
    "\n",
    "# Extracting columns from DataFrame\n",
    "group1 = df1['GDP_in_B']\n",
    "group2 = df1['GNP_in_B']\n",
    "group3 = df1['GNI_in_B']\n",
    "\n",
    "# Perform one-way ANOVA\n",
    "f_statistic, p_value = f_oneway(group1, group2, group3)\n",
    "\n",
    "print(\"F statistic:\", f_statistic)\n",
    "print(\"P-value:\", p_value)\n"
   ]
  },
  {
   "cell_type": "code",
   "execution_count": 173,
   "id": "6721129b",
   "metadata": {},
   "outputs": [
    {
     "data": {
      "image/png": "[encoded data removed]",
      "text/plain": [
       "<Figure size 1200x600 with 1 Axes>"
      ]
     },
     "metadata": {},
     "output_type": "display_data"
    }
   ],
   "source": [
    "import pandas as pd\n",
    "import matplotlib.pyplot as plt\n",
    "\n",
    "# Merge datasets on 'Year'\n",
    "merged_df = pd.merge(df1, df2, on='Year', how='inner')\n",
    "\n",
    "# Plotting the bar chart\n",
    "plt.figure(figsize=(12, 6))\n",
    "\n",
    "# Determine the number of data points\n",
    "n = len(merged_df)\n",
    "\n",
    "# Set the width of the bars\n",
    "bar_width = 0.4\n",
    "\n",
    "# Set the positions of the bars on the x-axis\n",
    "bar_positions1 = range(1, n+1)\n",
    "bar_positions2 = [x + bar_width for x in bar_positions1]\n",
    "\n",
    "# Plot Factor 1\n",
    "plt.bar(bar_positions1, merged_df['Population growth rate'], width=bar_width, label='Population Growth Rate')\n",
    "\n",
    "# Plot Factor 2\n",
    "plt.bar(bar_positions2, merged_df['Growth'], width=bar_width, label='GDP Growth')\n",
    "\n",
    "plt.xlabel('Year')\n",
    "plt.ylabel('Value')\n",
    "plt.title('Comparison of Population Growth Rate and GDP Growth')\n",
    "plt.xticks([x + bar_width/2 for x in bar_positions1], merged_df['Year'], rotation=45)\n",
    "plt.legend()\n",
    "plt.tight_layout()\n",
    "plt.show()\n"
   ]
  },
  {
   "cell_type": "code",
   "execution_count": 172,
   "id": "bc723ff9",
   "metadata": {},
   "outputs": [
    {
     "name": "stdout",
     "output_type": "stream",
     "text": [
      "Negative values exist in column:\n",
      "1    -0.11\n",
      "18   -2.60\n",
      "Name: Growth, dtype: float64\n",
      "    Year  Population_in_M  Population growth rate  GDP_in_B_x  \\\n",
      "0   1990         17204094                    1.26        8.03   \n",
      "1   1991         17416596                    1.24        9.00   \n",
      "2   1992         17624457                    1.19        9.70   \n",
      "3   1993         17825611                    1.14       10.34   \n",
      "4   1994         18011744                    1.04       11.72   \n",
      "5   1995         18177572                    0.92       13.03   \n",
      "6   1996         18322506                    0.80       13.90   \n",
      "7   1997         18449123                    0.69       15.09   \n",
      "8   1998         18560798                    0.61       15.79   \n",
      "9   1999         18670411                    0.59       15.66   \n",
      "10  2000         18776371                    0.57       16.33   \n",
      "11  2001         18920275                    0.77       15.75   \n",
      "12  2002         19110707                    1.01       16.54   \n",
      "13  2003         19303180                    1.01       18.88   \n",
      "14  2004         19490431                    0.97       20.66   \n",
      "15  2005         19673866                    0.94       24.41   \n",
      "16  2006         19870706                    1.00       28.28   \n",
      "17  2007         20078655                    1.05       32.35   \n",
      "18  2009         20482477                    0.97       42.07   \n",
      "19  2010         20668557                    0.91       56.73   \n",
      "20  2011         20859743                    0.93       65.29   \n",
      "21  2012         21017147                    0.75       68.43   \n",
      "22  2013         21131756                    0.55       74.32   \n",
      "23  2014         21239457                    0.51       79.36   \n",
      "24  2015         21336697                    0.46       80.60   \n",
      "\n",
      "    GDP growth percentage  Annual change in GDP growth  GDP Per Capita  \\\n",
      "0                    6.40                         4.10             464   \n",
      "1                    4.60                        -1.80             513   \n",
      "2                    4.40                        -0.20             547   \n",
      "3                    6.90                         2.50             577   \n",
      "4                    5.60                        -1.30             648   \n",
      "5                    5.50                        -0.10             714   \n",
      "6                    3.80                        -1.70             757   \n",
      "7                    6.41                         2.61             817   \n",
      "8                    4.70                        -1.71             851   \n",
      "9                    4.30                        -0.40             839   \n",
      "10                   6.00                         1.70             870   \n",
      "11                  -1.55                        -7.55             833   \n",
      "12                   3.96                         5.51             867   \n",
      "13                   5.94                         1.98             982   \n",
      "14                   5.45                        -0.50            1066   \n",
      "15                   6.24                         0.80            1249   \n",
      "16                   7.67                         1.43            1436   \n",
      "17                   6.80                        -0.87            1630   \n",
      "18                   3.54                        -2.41            2090   \n",
      "19                   8.02                         4.48            2800   \n",
      "20                   8.40                         0.39            3201   \n",
      "21                   9.14                         0.74            3351   \n",
      "22                   3.40                        -5.75            3610   \n",
      "23                   4.96                         1.57            3819   \n",
      "24                   5.01                         0.05            3844   \n",
      "\n",
      "    Annual Growth Rate in GDP Per Capita  GNI_in_B  GNI Growth Rate  \\\n",
      "0                                  13.51      8.05             6.48   \n",
      "1                                  10.71      8.66             4.49   \n",
      "2                                   6.58      9.73             5.01   \n",
      "3                                   5.43     10.68             7.14   \n",
      "4                                  12.27     11.54             4.97   \n",
      "5                                  10.29     12.64             4.85   \n",
      "6                                   5.94     13.66             3.68   \n",
      "7                                   7.98     14.73             6.66   \n",
      "8                                   4.13     15.14             4.22   \n",
      "9                                  -1.40     15.63             4.06   \n",
      "10                                  3.67     16.41             5.92   \n",
      "11                                 -4.24     15.69            -1.47   \n",
      "12                                  4.17     16.10             4.24   \n",
      "13                                 13.22     18.06             6.55   \n",
      "14                                  8.51     20.63             5.39   \n",
      "15                                 17.16     23.69             6.02   \n",
      "16                                 14.99     26.81             7.52   \n",
      "17                                 13.55     30.78             7.10   \n",
      "18                                  2.61     40.38             4.67   \n",
      "19                                 33.93     48.80             8.06   \n",
      "20                                 14.33     58.05             8.53   \n",
      "21                                  4.68     68.56             8.30   \n",
      "22                                  7.75     71.92             2.76   \n",
      "23                                  5.79     75.60             5.00   \n",
      "24                                  0.64     78.75             4.70   \n",
      "\n",
      "    GNI Per Capita  GNI Per Capita Annual Growth Rate  \\\n",
      "0              460                               4.55   \n",
      "1              490                               6.52   \n",
      "2              550                              12.24   \n",
      "3              600                               9.09   \n",
      "4              640                               6.67   \n",
      "5              690                               7.81   \n",
      "6              740                               7.25   \n",
      "7              800                               8.11   \n",
      "8              820                               2.50   \n",
      "9              840                               2.44   \n",
      "10             870                               3.57   \n",
      "11             830                              -4.60   \n",
      "12             840                               1.20   \n",
      "13             940                              11.90   \n",
      "14            1060                              12.77   \n",
      "15            1210                              14.15   \n",
      "16            1360                              12.40   \n",
      "17            1550                              13.97   \n",
      "18            2010                              12.29   \n",
      "19            2410                              19.90   \n",
      "20            2850                              18.26   \n",
      "21            3360                              17.89   \n",
      "22            3490                               3.87   \n",
      "23            3640                               4.30   \n",
      "24            3760                               3.30   \n",
      "\n",
      "    Government Debt as % of GDP  Annual Change in Debt to GDP Ratio  GNP_in_B  \\\n",
      "0                         96.58                                1.90      8.05   \n",
      "1                         98.48                                1.90      8.66   \n",
      "2                         95.36                               -3.12      9.73   \n",
      "3                         96.80                                1.44     10.68   \n",
      "4                         94.86                               -1.94     11.54   \n",
      "5                         94.65                               -0.21     12.64   \n",
      "6                         92.34                               -2.31     13.66   \n",
      "7                         86.11                               -6.24     14.73   \n",
      "8                         89.20                                3.09     15.14   \n",
      "9                         95.11                                5.91     15.63   \n",
      "10                        96.90                                1.80     16.41   \n",
      "11                       103.22                                6.32     15.69   \n",
      "12                       105.53                                2.31     16.10   \n",
      "13                       102.27                               -3.25     18.06   \n",
      "14                       102.33                                0.06     20.63   \n",
      "15                        90.60                              -11.72     23.69   \n",
      "16                        88.70                               -1.91     26.81   \n",
      "17                        84.99                               -3.71     30.78   \n",
      "18                        86.06                                1.07     40.38   \n",
      "19                        71.59                              -14.48     48.80   \n",
      "20                        71.11                               -0.48     58.05   \n",
      "21                        68.71                               -2.40     68.56   \n",
      "22                        70.82                                2.11     71.92   \n",
      "23                        71.33                                0.51     75.60   \n",
      "24                        77.65                                6.32     78.75   \n",
      "\n",
      "    Inflation Rate  Annual Change in Inflation Rate  GDP_in_B_y  \\\n",
      "0            21.50                             9.93     5963.14   \n",
      "1            12.19                            -9.31     6158.13   \n",
      "2            11.38                            -0.80     6520.33   \n",
      "3            11.75                             0.36     6858.56   \n",
      "4             8.45                            -3.30     7287.24   \n",
      "5             7.67                            -0.77     7639.75   \n",
      "6            15.94                             8.26     8073.12   \n",
      "7             9.57                            -6.36     8577.55   \n",
      "8             9.36                            -0.21     9062.82   \n",
      "9             4.69                            -4.67     9631.17   \n",
      "10            6.18                             1.48    10250.95   \n",
      "11           14.16                             7.98    10581.93   \n",
      "12            9.55                            -4.61    10929.11   \n",
      "13            6.31                            -3.24    11456.44   \n",
      "14            7.58                             1.26    12217.19   \n",
      "15           11.64                             4.06    13039.20   \n",
      "16           10.02                            -1.62    13815.59   \n",
      "17           15.84                             5.82    14474.23   \n",
      "18            3.47                           -19.10    14478.06   \n",
      "19            6.22                             2.75    15048.96   \n",
      "20            6.72                             0.50    15599.73   \n",
      "21            7.54                             0.83    16253.97   \n",
      "22            6.91                            -0.63    16843.19   \n",
      "23            3.18                            -3.73    17550.68   \n",
      "24            3.77                             0.59    18206.02   \n",
      "\n",
      "    GDP per Capita  Growth  Factor1  \n",
      "0            23889    1.89     1.89  \n",
      "1            24342   -0.11     0.11  \n",
      "2            25419    3.52     3.52  \n",
      "3            26387    2.75     2.75  \n",
      "4            27695    4.03     4.03  \n",
      "5            28691    2.68     2.68  \n",
      "6            29968    3.77     3.77  \n",
      "7            31459    4.45     4.45  \n",
      "8            32854    4.48     4.48  \n",
      "9            34515    4.79     4.79  \n",
      "10           36330    4.08     4.08  \n",
      "11           37134    0.95     0.95  \n",
      "12           37998    1.70     1.70  \n",
      "13           39490    2.80     2.80  \n",
      "14           41725    3.85     3.85  \n",
      "15           44123    3.48     3.48  \n",
      "16           46302    2.78     2.78  \n",
      "17           48050    2.01     2.01  \n",
      "18           47195   -2.60     2.60  \n",
      "19           48651    2.71     2.71  \n",
      "20           50066    1.55     1.55  \n",
      "21           51784    2.28     2.28  \n",
      "22           53291    1.84     1.84  \n",
      "23           55124    2.29     2.29  \n",
      "24           56763    2.71     2.71  \n"
     ]
    }
   ],
   "source": [
    "# Check if any negative values exist in Factor 1 column\n",
    "negative_values = merged_df.loc[merged_df['Growth'] < 0, 'Growth']\n",
    "if not negative_values.empty:\n",
    "    print(\"Negative values exist in column:\")\n",
    "    print(negative_values)\n",
    "else:\n",
    "    print(\"No negative values in column.\")\n",
    "    \n",
    "# Turn negative values in Factor 1 column to positive\n",
    "merged_df['Factor1'] = merged_df['Growth'].abs()\n",
    "\n",
    "# Displaying the DataFrame to verify changes\n",
    "print(merged_df)\n",
    "    \n"
   ]
  },
  {
   "cell_type": "code",
   "execution_count": 176,
   "id": "42c97bdc",
   "metadata": {},
   "outputs": [
    {
     "data": {
      "image/png": "[encoded data removed]",
      "text/plain": [
       "<Figure size 1200x600 with 1 Axes>"
      ]
     },
     "metadata": {},
     "output_type": "display_data"
    }
   ],
   "source": [
    "import pandas as pd\n",
    "import matplotlib.pyplot as plt\n",
    "\n",
    "# Merge datasets on 'Year'\n",
    "merged_df = pd.merge(df1, df2, on='Year', how='inner')\n",
    "\n",
    "# Plotting the bar chart\n",
    "plt.figure(figsize=(12, 6))\n",
    "\n",
    "# Determine the number of data points\n",
    "n = len(merged_df)\n",
    "\n",
    "# Set the width of the bars\n",
    "bar_width = 0.4\n",
    "\n",
    "# Set the positions of the bars on the x-axis\n",
    "bar_positions1 = range(1, n+1)\n",
    "bar_positions2 = [x + bar_width for x in bar_positions1]\n",
    "\n",
    "# Plot Factor 1 (Population Growth Rate)\n",
    "plt.bar(bar_positions1, merged_df['Population growth rate'].abs(), width=bar_width, label='Population Growth Rate')\n",
    "\n",
    "# Plot Factor 2 (GDP Growth)\n",
    "plt.bar(bar_positions2, merged_df['Growth'].abs(), width=bar_width, label='GDP Growth')\n",
    "\n",
    "plt.xlabel('Year')\n",
    "plt.ylabel('Value')\n",
    "plt.title('Comparison of Population Growth Rate and GDP Growth')\n",
    "plt.xticks([x + bar_width/2 for x in bar_positions1], merged_df['Year'], rotation=45)\n",
    "plt.legend()\n",
    "plt.tight_layout()\n",
    "plt.show()\n"
   ]
  },
  {
   "cell_type": "code",
   "execution_count": 175,
   "id": "42949487",
   "metadata": {},
   "outputs": [
    {
     "name": "stdout",
     "output_type": "stream",
     "text": [
      "Negative values exist in column:\n",
      "1    -0.11\n",
      "18   -2.60\n",
      "Name: Growth, dtype: float64\n"
     ]
    }
   ],
   "source": [
    "negative_values = merged_df.loc[merged_df['Growth'] < 0, 'Growth']\n",
    "if not negative_values.empty:\n",
    "    print(\"Negative values exist in column:\")\n",
    "    print(negative_values)\n",
    "else:\n",
    "    print(\"No negative values in column.\")"
   ]
  }
 ],
 "metadata": {
  "kernelspec": {
   "display_name": "Python 3 (ipykernel)",
   "language": "python",
   "name": "python3"
  },
  "language_info": {
   "codemirror_mode": {
    "name": "ipython",
    "version": 3
   },
   "file_extension": ".py",
   "mimetype": "text/x-python",
   "name": "python",
   "nbconvert_exporter": "python",
   "pygments_lexer": "ipython3",
   "version": "3.11.6"
  }
 },
 "nbformat": 4,
 "nbformat_minor": 5
}
