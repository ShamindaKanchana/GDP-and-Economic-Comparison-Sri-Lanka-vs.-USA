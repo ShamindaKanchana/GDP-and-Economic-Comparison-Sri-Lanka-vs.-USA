{
 "cells": [
  {
   "cell_type": "code",
   "execution_count": 61,
   "id": "409b3e00-9cfe-4bbb-ad00-eaf71081ff03",
   "metadata": {},
   "outputs": [
    {
     "data": {
      "text/plain": [
       "'e:\\\\Data_Analysis\\\\Data_Analytics_Projects\\\\GDP and Economic Comparison Sri Lanka vs. USA\\\\GDP-and-Economic-Comparison-Sri-Lanka-vs.-USA\\\\Notebook'"
      ]
     },
     "execution_count": 61,
     "metadata": {},
     "output_type": "execute_result"
    }
   ],
   "source": [
    "import os\n",
    "os.getcwd()"
   ]
  },
  {
   "cell_type": "code",
   "execution_count": 62,
   "id": "90fd536b",
   "metadata": {},
   "outputs": [
    {
     "data": {
      "text/html": [
       "        <script type=\"text/javascript\">\n",
       "        window.PlotlyConfig = {MathJaxConfig: 'local'};\n",
       "        if (window.MathJax && window.MathJax.Hub && window.MathJax.Hub.Config) {window.MathJax.Hub.Config({SVG: {font: \"STIX-Web\"}});}\n",
       "        if (typeof require !== 'undefined') {\n",
       "        require.undef(\"plotly\");\n",
       "        requirejs.config({\n",
       "            paths: {\n",
       "                'plotly': ['https://cdn.plot.ly/plotly-2.30.0.min']\n",
       "            }\n",
       "        });\n",
       "        require(['plotly'], function(Plotly) {\n",
       "            window._Plotly = Plotly;\n",
       "        });\n",
       "        }\n",
       "        </script>\n",
       "        "
      ]
     },
     "metadata": {},
     "output_type": "display_data"
    }
   ],
   "source": [
    "#importing all the requirement libraries \n",
    "import pandas as pd\n",
    "import numpy as np \n",
    "import matplotlib.pyplot as plt \n",
    "import plotly.express as px \n",
    "import plotly.graph_objects as go \n",
    "from plotly.subplots import make_subplots\n",
    "from plotly.offline import init_notebook_mode\n",
    "import seaborn as sns\n",
    "import datetime as dt\n",
    "import warnings\n",
    "pd.set_option('display.max_columns',None)\n",
    "init_notebook_mode(connected=True)\n"
   ]
  },
  {
   "cell_type": "code",
   "execution_count": 63,
   "id": "5a6021bf",
   "metadata": {},
   "outputs": [],
   "source": [
    "#import datasets\n",
    "df1=pd.read_csv('../Datasets/Sri Lanka Economy.csv')\n",
    "df2=pd.read_csv('../Datasets/USA GDP Growth 1961-2021.csv')"
   ]
  },
  {
   "cell_type": "code",
   "execution_count": 64,
   "id": "73c1581e",
   "metadata": {},
   "outputs": [
    {
     "data": {
      "text/html": [
       "<div>\n",
       "<style scoped>\n",
       "    .dataframe tbody tr th:only-of-type {\n",
       "        vertical-align: middle;\n",
       "    }\n",
       "\n",
       "    .dataframe tbody tr th {\n",
       "        vertical-align: top;\n",
       "    }\n",
       "\n",
       "    .dataframe thead th {\n",
       "        text-align: right;\n",
       "    }\n",
       "</style>\n",
       "<table border=\"1\" class=\"dataframe\">\n",
       "  <thead>\n",
       "    <tr style=\"text-align: right;\">\n",
       "      <th></th>\n",
       "      <th>Year</th>\n",
       "      <th>Population</th>\n",
       "      <th>Population growth rate</th>\n",
       "      <th>GDP</th>\n",
       "      <th>GDP growth percentage</th>\n",
       "      <th>Annual change in GDP growth</th>\n",
       "      <th>GDP Per Capita</th>\n",
       "      <th>Annual Growth Rate in GDP Per Capita</th>\n",
       "      <th>GNI</th>\n",
       "      <th>GNI Growth Rate</th>\n",
       "      <th>GNI Per Capita</th>\n",
       "      <th>GNI Per Capita Annual Growth Rate</th>\n",
       "      <th>Government Debt as % of GDP</th>\n",
       "      <th>Annual Change in Debt to GDP Ratio</th>\n",
       "      <th>GNP</th>\n",
       "      <th>Inflation Rate</th>\n",
       "      <th>Annual Change in Inflation Rate</th>\n",
       "    </tr>\n",
       "  </thead>\n",
       "  <tbody>\n",
       "    <tr>\n",
       "      <th>0</th>\n",
       "      <td>2021</td>\n",
       "      <td>2,17,73,441</td>\n",
       "      <td>0.27%</td>\n",
       "      <td>$84.52B</td>\n",
       "      <td>3.66%</td>\n",
       "      <td>7.27%</td>\n",
       "      <td>$3,815</td>\n",
       "      <td>3.27%</td>\n",
       "      <td>$84.57B</td>\n",
       "      <td>4.12%</td>\n",
       "      <td>$3,820</td>\n",
       "      <td>2.69%</td>\n",
       "      <td>Null</td>\n",
       "      <td>Null</td>\n",
       "      <td>$84.57B</td>\n",
       "      <td>7.01%</td>\n",
       "      <td>0.86%</td>\n",
       "    </tr>\n",
       "    <tr>\n",
       "      <th>1</th>\n",
       "      <td>2020</td>\n",
       "      <td>2,17,15,079</td>\n",
       "      <td>0.30%</td>\n",
       "      <td>$80.97B</td>\n",
       "      <td>-3.62%</td>\n",
       "      <td>-5.94%</td>\n",
       "      <td>$3,694</td>\n",
       "      <td>-4.01%</td>\n",
       "      <td>$81.45B</td>\n",
       "      <td>-3.45%</td>\n",
       "      <td>$3,720</td>\n",
       "      <td>-7.23%</td>\n",
       "      <td>Null</td>\n",
       "      <td>Null</td>\n",
       "      <td>$81.45B</td>\n",
       "      <td>6.15%</td>\n",
       "      <td>2.63%</td>\n",
       "    </tr>\n",
       "    <tr>\n",
       "      <th>2</th>\n",
       "      <td>2019</td>\n",
       "      <td>2,16,49,664</td>\n",
       "      <td>0.32%</td>\n",
       "      <td>$83.90B</td>\n",
       "      <td>2.33%</td>\n",
       "      <td>-0.94%</td>\n",
       "      <td>$3,848</td>\n",
       "      <td>-5.20%</td>\n",
       "      <td>$87.46B</td>\n",
       "      <td>2.14%</td>\n",
       "      <td>$4,010</td>\n",
       "      <td>-0.74%</td>\n",
       "      <td>Null</td>\n",
       "      <td>Null</td>\n",
       "      <td>$87.46B</td>\n",
       "      <td>3.53%</td>\n",
       "      <td>1.39%</td>\n",
       "    </tr>\n",
       "    <tr>\n",
       "      <th>3</th>\n",
       "      <td>2018</td>\n",
       "      <td>2,15,80,710</td>\n",
       "      <td>0.34%</td>\n",
       "      <td>$87.96B</td>\n",
       "      <td>3.27%</td>\n",
       "      <td>-0.31%</td>\n",
       "      <td>$4,059</td>\n",
       "      <td>-0.44%</td>\n",
       "      <td>$87.46B</td>\n",
       "      <td>3.19%</td>\n",
       "      <td>$4,040</td>\n",
       "      <td>4.39%</td>\n",
       "      <td>Null</td>\n",
       "      <td>Null</td>\n",
       "      <td>$87.46B</td>\n",
       "      <td>2.14%</td>\n",
       "      <td>-5.57%</td>\n",
       "    </tr>\n",
       "    <tr>\n",
       "      <th>4</th>\n",
       "      <td>2017</td>\n",
       "      <td>2,15,06,813</td>\n",
       "      <td>0.38%</td>\n",
       "      <td>$87.43B</td>\n",
       "      <td>3.58%</td>\n",
       "      <td>-0.91%</td>\n",
       "      <td>$4,077</td>\n",
       "      <td>4.91%</td>\n",
       "      <td>$83.01B</td>\n",
       "      <td>3.59%</td>\n",
       "      <td>$3,870</td>\n",
       "      <td>1.57%</td>\n",
       "      <td>Null</td>\n",
       "      <td>Null</td>\n",
       "      <td>$83.01B</td>\n",
       "      <td>7.70%</td>\n",
       "      <td>3.75%</td>\n",
       "    </tr>\n",
       "  </tbody>\n",
       "</table>\n",
       "</div>"
      ],
      "text/plain": [
       "   Year   Population Population growth rate      GDP GDP growth percentage  \\\n",
       "0  2021  2,17,73,441                  0.27%  $84.52B                 3.66%   \n",
       "1  2020  2,17,15,079                  0.30%  $80.97B                -3.62%   \n",
       "2  2019  2,16,49,664                  0.32%  $83.90B                 2.33%   \n",
       "3  2018  2,15,80,710                  0.34%  $87.96B                 3.27%   \n",
       "4  2017  2,15,06,813                  0.38%  $87.43B                 3.58%   \n",
       "\n",
       "  Annual change in GDP growth GDP Per Capita  \\\n",
       "0                       7.27%         $3,815   \n",
       "1                      -5.94%         $3,694   \n",
       "2                      -0.94%         $3,848   \n",
       "3                      -0.31%         $4,059   \n",
       "4                      -0.91%         $4,077   \n",
       "\n",
       "  Annual Growth Rate in GDP Per Capita      GNI GNI Growth Rate  \\\n",
       "0                                3.27%  $84.57B           4.12%   \n",
       "1                               -4.01%  $81.45B          -3.45%   \n",
       "2                               -5.20%  $87.46B           2.14%   \n",
       "3                               -0.44%  $87.46B           3.19%   \n",
       "4                                4.91%  $83.01B           3.59%   \n",
       "\n",
       "  GNI Per Capita GNI Per Capita Annual Growth Rate  \\\n",
       "0         $3,820                             2.69%   \n",
       "1         $3,720                            -7.23%   \n",
       "2         $4,010                            -0.74%   \n",
       "3         $4,040                             4.39%   \n",
       "4         $3,870                             1.57%   \n",
       "\n",
       "  Government Debt as % of GDP Annual Change in Debt to GDP Ratio      GNP  \\\n",
       "0                        Null                               Null  $84.57B   \n",
       "1                        Null                               Null  $81.45B   \n",
       "2                        Null                               Null  $87.46B   \n",
       "3                        Null                               Null  $87.46B   \n",
       "4                        Null                               Null  $83.01B   \n",
       "\n",
       "  Inflation Rate Annual Change in Inflation Rate  \n",
       "0          7.01%                           0.86%  \n",
       "1          6.15%                           2.63%  \n",
       "2          3.53%                           1.39%  \n",
       "3          2.14%                          -5.57%  \n",
       "4          7.70%                           3.75%  "
      ]
     },
     "execution_count": 64,
     "metadata": {},
     "output_type": "execute_result"
    }
   ],
   "source": [
    "df1.head()"
   ]
  },
  {
   "cell_type": "code",
   "execution_count": 65,
   "id": "b02f2371",
   "metadata": {},
   "outputs": [
    {
     "data": {
      "text/html": [
       "<div>\n",
       "<style scoped>\n",
       "    .dataframe tbody tr th:only-of-type {\n",
       "        vertical-align: middle;\n",
       "    }\n",
       "\n",
       "    .dataframe tbody tr th {\n",
       "        vertical-align: top;\n",
       "    }\n",
       "\n",
       "    .dataframe thead th {\n",
       "        text-align: right;\n",
       "    }\n",
       "</style>\n",
       "<table border=\"1\" class=\"dataframe\">\n",
       "  <thead>\n",
       "    <tr style=\"text-align: right;\">\n",
       "      <th></th>\n",
       "      <th>Year</th>\n",
       "      <th>GDP</th>\n",
       "      <th>GDP per Capita</th>\n",
       "      <th>Growth</th>\n",
       "    </tr>\n",
       "  </thead>\n",
       "  <tbody>\n",
       "    <tr>\n",
       "      <th>0</th>\n",
       "      <td>2021.0</td>\n",
       "      <td>$22,996.10B</td>\n",
       "      <td>$69,288</td>\n",
       "      <td>5.67%</td>\n",
       "    </tr>\n",
       "    <tr>\n",
       "      <th>1</th>\n",
       "      <td>2020.0</td>\n",
       "      <td>$20,893.74B</td>\n",
       "      <td>$63,028</td>\n",
       "      <td>-3.40%</td>\n",
       "    </tr>\n",
       "    <tr>\n",
       "      <th>2</th>\n",
       "      <td>2019.0</td>\n",
       "      <td>$21,372.57B</td>\n",
       "      <td>$65,095</td>\n",
       "      <td>2.29%</td>\n",
       "    </tr>\n",
       "    <tr>\n",
       "      <th>3</th>\n",
       "      <td>2018.0</td>\n",
       "      <td>$20,527.16B</td>\n",
       "      <td>$62,805</td>\n",
       "      <td>2.92%</td>\n",
       "    </tr>\n",
       "    <tr>\n",
       "      <th>4</th>\n",
       "      <td>2017.0</td>\n",
       "      <td>$19,479.62B</td>\n",
       "      <td>$59,915</td>\n",
       "      <td>2.26%</td>\n",
       "    </tr>\n",
       "  </tbody>\n",
       "</table>\n",
       "</div>"
      ],
      "text/plain": [
       "     Year          GDP GDP per Capita  Growth\n",
       "0  2021.0  $22,996.10B       $69,288    5.67%\n",
       "1  2020.0  $20,893.74B       $63,028   -3.40%\n",
       "2  2019.0  $21,372.57B       $65,095    2.29%\n",
       "3  2018.0  $20,527.16B       $62,805    2.92%\n",
       "4  2017.0  $19,479.62B       $59,915    2.26%"
      ]
     },
     "execution_count": 65,
     "metadata": {},
     "output_type": "execute_result"
    }
   ],
   "source": [
    "df2.head()"
   ]
  },
  {
   "cell_type": "code",
   "execution_count": 66,
   "id": "de7d7e96",
   "metadata": {},
   "outputs": [
    {
     "name": "stdout",
     "output_type": "stream",
     "text": [
      "<class 'pandas.core.frame.DataFrame'>\n",
      "RangeIndex: 62 entries, 0 to 61\n",
      "Data columns (total 17 columns):\n",
      " #   Column                                Non-Null Count  Dtype \n",
      "---  ------                                --------------  ----- \n",
      " 0   Year                                  62 non-null     int64 \n",
      " 1   Population                            62 non-null     object\n",
      " 2   Population growth rate                62 non-null     object\n",
      " 3   GDP                                   62 non-null     object\n",
      " 4   GDP growth percentage                 62 non-null     object\n",
      " 5   Annual change in GDP growth           62 non-null     object\n",
      " 6   GDP Per Capita                        62 non-null     object\n",
      " 7   Annual Growth Rate in GDP Per Capita  62 non-null     object\n",
      " 8   GNI                                   62 non-null     object\n",
      " 9   GNI Growth Rate                       62 non-null     object\n",
      " 10  GNI Per Capita                        62 non-null     object\n",
      " 11  GNI Per Capita Annual Growth Rate     62 non-null     object\n",
      " 12  Government Debt as % of GDP           62 non-null     object\n",
      " 13  Annual Change in Debt to GDP Ratio    62 non-null     object\n",
      " 14  GNP                                   62 non-null     object\n",
      " 15  Inflation Rate                        62 non-null     object\n",
      " 16  Annual Change in Inflation Rate       62 non-null     object\n",
      "dtypes: int64(1), object(16)\n",
      "memory usage: 8.4+ KB\n"
     ]
    }
   ],
   "source": [
    "df1.info()"
   ]
  },
  {
   "cell_type": "code",
   "execution_count": 67,
   "id": "99cae639",
   "metadata": {},
   "outputs": [
    {
     "name": "stdout",
     "output_type": "stream",
     "text": [
      "<class 'pandas.core.frame.DataFrame'>\n",
      "RangeIndex: 62 entries, 0 to 61\n",
      "Data columns (total 4 columns):\n",
      " #   Column          Non-Null Count  Dtype  \n",
      "---  ------          --------------  -----  \n",
      " 0   Year            61 non-null     float64\n",
      " 1   GDP             61 non-null     object \n",
      " 2   GDP per Capita  61 non-null     object \n",
      " 3   Growth          61 non-null     object \n",
      "dtypes: float64(1), object(3)\n",
      "memory usage: 2.1+ KB\n"
     ]
    }
   ],
   "source": [
    "df2.info()"
   ]
  },
  {
   "cell_type": "code",
   "execution_count": 68,
   "id": "62f24cac",
   "metadata": {},
   "outputs": [
    {
     "data": {
      "text/plain": [
       "Year                                    0\n",
       "Population                              0\n",
       "Population growth rate                  0\n",
       "GDP                                     0\n",
       "GDP growth percentage                   0\n",
       "Annual change in GDP growth             0\n",
       "GDP Per Capita                          0\n",
       "Annual Growth Rate in GDP Per Capita    0\n",
       "GNI                                     0\n",
       "GNI Growth Rate                         0\n",
       "GNI Per Capita                          0\n",
       "GNI Per Capita Annual Growth Rate       0\n",
       "Government Debt as % of GDP             0\n",
       "Annual Change in Debt to GDP Ratio      0\n",
       "GNP                                     0\n",
       "Inflation Rate                          0\n",
       "Annual Change in Inflation Rate         0\n",
       "dtype: int64"
      ]
     },
     "execution_count": 68,
     "metadata": {},
     "output_type": "execute_result"
    }
   ],
   "source": [
    "#cheking for null values on Sri Lanka dataset\n",
    "df1.isnull().sum()\n"
   ]
  },
  {
   "cell_type": "code",
   "execution_count": 69,
   "id": "f04a0b15",
   "metadata": {},
   "outputs": [
    {
     "data": {
      "text/plain": [
       "Year              1\n",
       "GDP               1\n",
       "GDP per Capita    1\n",
       "Growth            1\n",
       "dtype: int64"
      ]
     },
     "execution_count": 69,
     "metadata": {},
     "output_type": "execute_result"
    }
   ],
   "source": [
    "#cheking for null values on USA  dataset \n",
    "df2.isnull().sum()"
   ]
  },
  {
   "cell_type": "code",
   "execution_count": null,
   "id": "19ae4f68",
   "metadata": {},
   "outputs": [],
   "source": [
    "#Check duplicates on USA datasets "
   ]
  }
 ],
 "metadata": {
  "kernelspec": {
   "display_name": "Python 3 (ipykernel)",
   "language": "python",
   "name": "python3"
  },
  "language_info": {
   "codemirror_mode": {
    "name": "ipython",
    "version": 3
   },
   "file_extension": ".py",
   "mimetype": "text/x-python",
   "name": "python",
   "nbconvert_exporter": "python",
   "pygments_lexer": "ipython3",
   "version": "3.11.6"
  }
 },
 "nbformat": 4,
 "nbformat_minor": 5
}
